{
  "nbformat": 4,
  "nbformat_minor": 0,
  "metadata": {
    "colab": {
      "name": "Sesgos - NLP.ipynb",
      "provenance": [],
      "collapsed_sections": [],
      "toc_visible": true
    },
    "kernelspec": {
      "name": "python3",
      "display_name": "Python 3"
    },
    "widgets": {
      "application/vnd.jupyter.widget-state+json": {
        "4094429878f14a45ac946a1d4e02b214": {
          "model_module": "@jupyter-widgets/controls",
          "model_name": "HBoxModel",
          "state": {
            "_view_name": "HBoxView",
            "_dom_classes": [],
            "_model_name": "HBoxModel",
            "_view_module": "@jupyter-widgets/controls",
            "_model_module_version": "1.5.0",
            "_view_count": null,
            "_view_module_version": "1.5.0",
            "box_style": "",
            "layout": "IPY_MODEL_f000497842b04572b12dc79f29964084",
            "_model_module": "@jupyter-widgets/controls",
            "children": [
              "IPY_MODEL_f3a0e8e204b54aabb21ebb267e0b0eaa",
              "IPY_MODEL_34496ca56cc845b1ba287d0abae14bb4"
            ]
          }
        },
        "f000497842b04572b12dc79f29964084": {
          "model_module": "@jupyter-widgets/base",
          "model_name": "LayoutModel",
          "state": {
            "_view_name": "LayoutView",
            "grid_template_rows": null,
            "right": null,
            "justify_content": null,
            "_view_module": "@jupyter-widgets/base",
            "overflow": null,
            "_model_module_version": "1.2.0",
            "_view_count": null,
            "flex_flow": null,
            "width": null,
            "min_width": null,
            "border": null,
            "align_items": null,
            "bottom": null,
            "_model_module": "@jupyter-widgets/base",
            "top": null,
            "grid_column": null,
            "overflow_y": null,
            "overflow_x": null,
            "grid_auto_flow": null,
            "grid_area": null,
            "grid_template_columns": null,
            "flex": null,
            "_model_name": "LayoutModel",
            "justify_items": null,
            "grid_row": null,
            "max_height": null,
            "align_content": null,
            "visibility": null,
            "align_self": null,
            "height": null,
            "min_height": null,
            "padding": null,
            "grid_auto_rows": null,
            "grid_gap": null,
            "max_width": null,
            "order": null,
            "_view_module_version": "1.2.0",
            "grid_template_areas": null,
            "object_position": null,
            "object_fit": null,
            "grid_auto_columns": null,
            "margin": null,
            "display": null,
            "left": null
          }
        },
        "f3a0e8e204b54aabb21ebb267e0b0eaa": {
          "model_module": "@jupyter-widgets/controls",
          "model_name": "FloatProgressModel",
          "state": {
            "_view_name": "ProgressView",
            "style": "IPY_MODEL_f71c8ad16d354a1099a94325f4393988",
            "_dom_classes": [],
            "description": "Downloading: 100%",
            "_model_name": "FloatProgressModel",
            "bar_style": "success",
            "max": 248047,
            "_view_module": "@jupyter-widgets/controls",
            "_model_module_version": "1.5.0",
            "value": 248047,
            "_view_count": null,
            "_view_module_version": "1.5.0",
            "orientation": "horizontal",
            "min": 0,
            "description_tooltip": null,
            "_model_module": "@jupyter-widgets/controls",
            "layout": "IPY_MODEL_6125dd94d2c84e7ba1babb047b4289a2"
          }
        },
        "34496ca56cc845b1ba287d0abae14bb4": {
          "model_module": "@jupyter-widgets/controls",
          "model_name": "HTMLModel",
          "state": {
            "_view_name": "HTMLView",
            "style": "IPY_MODEL_93d8657480214156a26359507fc0db71",
            "_dom_classes": [],
            "description": "",
            "_model_name": "HTMLModel",
            "placeholder": "​",
            "_view_module": "@jupyter-widgets/controls",
            "_model_module_version": "1.5.0",
            "value": " 248k/248k [00:00&lt;00:00, 355kB/s]",
            "_view_count": null,
            "_view_module_version": "1.5.0",
            "description_tooltip": null,
            "_model_module": "@jupyter-widgets/controls",
            "layout": "IPY_MODEL_80aa1f2e7ebc4eecb513a9192c07df5d"
          }
        },
        "f71c8ad16d354a1099a94325f4393988": {
          "model_module": "@jupyter-widgets/controls",
          "model_name": "ProgressStyleModel",
          "state": {
            "_view_name": "StyleView",
            "_model_name": "ProgressStyleModel",
            "description_width": "initial",
            "_view_module": "@jupyter-widgets/base",
            "_model_module_version": "1.5.0",
            "_view_count": null,
            "_view_module_version": "1.2.0",
            "bar_color": null,
            "_model_module": "@jupyter-widgets/controls"
          }
        },
        "6125dd94d2c84e7ba1babb047b4289a2": {
          "model_module": "@jupyter-widgets/base",
          "model_name": "LayoutModel",
          "state": {
            "_view_name": "LayoutView",
            "grid_template_rows": null,
            "right": null,
            "justify_content": null,
            "_view_module": "@jupyter-widgets/base",
            "overflow": null,
            "_model_module_version": "1.2.0",
            "_view_count": null,
            "flex_flow": null,
            "width": null,
            "min_width": null,
            "border": null,
            "align_items": null,
            "bottom": null,
            "_model_module": "@jupyter-widgets/base",
            "top": null,
            "grid_column": null,
            "overflow_y": null,
            "overflow_x": null,
            "grid_auto_flow": null,
            "grid_area": null,
            "grid_template_columns": null,
            "flex": null,
            "_model_name": "LayoutModel",
            "justify_items": null,
            "grid_row": null,
            "max_height": null,
            "align_content": null,
            "visibility": null,
            "align_self": null,
            "height": null,
            "min_height": null,
            "padding": null,
            "grid_auto_rows": null,
            "grid_gap": null,
            "max_width": null,
            "order": null,
            "_view_module_version": "1.2.0",
            "grid_template_areas": null,
            "object_position": null,
            "object_fit": null,
            "grid_auto_columns": null,
            "margin": null,
            "display": null,
            "left": null
          }
        },
        "93d8657480214156a26359507fc0db71": {
          "model_module": "@jupyter-widgets/controls",
          "model_name": "DescriptionStyleModel",
          "state": {
            "_view_name": "StyleView",
            "_model_name": "DescriptionStyleModel",
            "description_width": "",
            "_view_module": "@jupyter-widgets/base",
            "_model_module_version": "1.5.0",
            "_view_count": null,
            "_view_module_version": "1.2.0",
            "_model_module": "@jupyter-widgets/controls"
          }
        },
        "80aa1f2e7ebc4eecb513a9192c07df5d": {
          "model_module": "@jupyter-widgets/base",
          "model_name": "LayoutModel",
          "state": {
            "_view_name": "LayoutView",
            "grid_template_rows": null,
            "right": null,
            "justify_content": null,
            "_view_module": "@jupyter-widgets/base",
            "overflow": null,
            "_model_module_version": "1.2.0",
            "_view_count": null,
            "flex_flow": null,
            "width": null,
            "min_width": null,
            "border": null,
            "align_items": null,
            "bottom": null,
            "_model_module": "@jupyter-widgets/base",
            "top": null,
            "grid_column": null,
            "overflow_y": null,
            "overflow_x": null,
            "grid_auto_flow": null,
            "grid_area": null,
            "grid_template_columns": null,
            "flex": null,
            "_model_name": "LayoutModel",
            "justify_items": null,
            "grid_row": null,
            "max_height": null,
            "align_content": null,
            "visibility": null,
            "align_self": null,
            "height": null,
            "min_height": null,
            "padding": null,
            "grid_auto_rows": null,
            "grid_gap": null,
            "max_width": null,
            "order": null,
            "_view_module_version": "1.2.0",
            "grid_template_areas": null,
            "object_position": null,
            "object_fit": null,
            "grid_auto_columns": null,
            "margin": null,
            "display": null,
            "left": null
          }
        },
        "3fed013020004472ba0bb34b33b8e71c": {
          "model_module": "@jupyter-widgets/controls",
          "model_name": "HBoxModel",
          "state": {
            "_view_name": "HBoxView",
            "_dom_classes": [],
            "_model_name": "HBoxModel",
            "_view_module": "@jupyter-widgets/controls",
            "_model_module_version": "1.5.0",
            "_view_count": null,
            "_view_module_version": "1.5.0",
            "box_style": "",
            "layout": "IPY_MODEL_6500486e82c64b3aafecf89fafcbcc95",
            "_model_module": "@jupyter-widgets/controls",
            "children": [
              "IPY_MODEL_7ca6fba4ab494739b0e827dd196f0514",
              "IPY_MODEL_f227a1c46b544f878269927f1ed4b99f"
            ]
          }
        },
        "6500486e82c64b3aafecf89fafcbcc95": {
          "model_module": "@jupyter-widgets/base",
          "model_name": "LayoutModel",
          "state": {
            "_view_name": "LayoutView",
            "grid_template_rows": null,
            "right": null,
            "justify_content": null,
            "_view_module": "@jupyter-widgets/base",
            "overflow": null,
            "_model_module_version": "1.2.0",
            "_view_count": null,
            "flex_flow": null,
            "width": null,
            "min_width": null,
            "border": null,
            "align_items": null,
            "bottom": null,
            "_model_module": "@jupyter-widgets/base",
            "top": null,
            "grid_column": null,
            "overflow_y": null,
            "overflow_x": null,
            "grid_auto_flow": null,
            "grid_area": null,
            "grid_template_columns": null,
            "flex": null,
            "_model_name": "LayoutModel",
            "justify_items": null,
            "grid_row": null,
            "max_height": null,
            "align_content": null,
            "visibility": null,
            "align_self": null,
            "height": null,
            "min_height": null,
            "padding": null,
            "grid_auto_rows": null,
            "grid_gap": null,
            "max_width": null,
            "order": null,
            "_view_module_version": "1.2.0",
            "grid_template_areas": null,
            "object_position": null,
            "object_fit": null,
            "grid_auto_columns": null,
            "margin": null,
            "display": null,
            "left": null
          }
        },
        "7ca6fba4ab494739b0e827dd196f0514": {
          "model_module": "@jupyter-widgets/controls",
          "model_name": "FloatProgressModel",
          "state": {
            "_view_name": "ProgressView",
            "style": "IPY_MODEL_2459a3f0ef2943a29c41470198fae863",
            "_dom_classes": [],
            "description": "Downloading: 100%",
            "_model_name": "FloatProgressModel",
            "bar_style": "success",
            "max": 2,
            "_view_module": "@jupyter-widgets/controls",
            "_model_module_version": "1.5.0",
            "value": 2,
            "_view_count": null,
            "_view_module_version": "1.5.0",
            "orientation": "horizontal",
            "min": 0,
            "description_tooltip": null,
            "_model_module": "@jupyter-widgets/controls",
            "layout": "IPY_MODEL_1da8280b16d44016a19ccafd42940bb9"
          }
        },
        "f227a1c46b544f878269927f1ed4b99f": {
          "model_module": "@jupyter-widgets/controls",
          "model_name": "HTMLModel",
          "state": {
            "_view_name": "HTMLView",
            "style": "IPY_MODEL_77fb38f8b14b43568b12dba79614a3db",
            "_dom_classes": [],
            "description": "",
            "_model_name": "HTMLModel",
            "placeholder": "​",
            "_view_module": "@jupyter-widgets/controls",
            "_model_module_version": "1.5.0",
            "value": " 2.00/2.00 [00:00&lt;00:00, 9.17B/s]",
            "_view_count": null,
            "_view_module_version": "1.5.0",
            "description_tooltip": null,
            "_model_module": "@jupyter-widgets/controls",
            "layout": "IPY_MODEL_24349544ed0f4aa98650e843254cfa55"
          }
        },
        "2459a3f0ef2943a29c41470198fae863": {
          "model_module": "@jupyter-widgets/controls",
          "model_name": "ProgressStyleModel",
          "state": {
            "_view_name": "StyleView",
            "_model_name": "ProgressStyleModel",
            "description_width": "initial",
            "_view_module": "@jupyter-widgets/base",
            "_model_module_version": "1.5.0",
            "_view_count": null,
            "_view_module_version": "1.2.0",
            "bar_color": null,
            "_model_module": "@jupyter-widgets/controls"
          }
        },
        "1da8280b16d44016a19ccafd42940bb9": {
          "model_module": "@jupyter-widgets/base",
          "model_name": "LayoutModel",
          "state": {
            "_view_name": "LayoutView",
            "grid_template_rows": null,
            "right": null,
            "justify_content": null,
            "_view_module": "@jupyter-widgets/base",
            "overflow": null,
            "_model_module_version": "1.2.0",
            "_view_count": null,
            "flex_flow": null,
            "width": null,
            "min_width": null,
            "border": null,
            "align_items": null,
            "bottom": null,
            "_model_module": "@jupyter-widgets/base",
            "top": null,
            "grid_column": null,
            "overflow_y": null,
            "overflow_x": null,
            "grid_auto_flow": null,
            "grid_area": null,
            "grid_template_columns": null,
            "flex": null,
            "_model_name": "LayoutModel",
            "justify_items": null,
            "grid_row": null,
            "max_height": null,
            "align_content": null,
            "visibility": null,
            "align_self": null,
            "height": null,
            "min_height": null,
            "padding": null,
            "grid_auto_rows": null,
            "grid_gap": null,
            "max_width": null,
            "order": null,
            "_view_module_version": "1.2.0",
            "grid_template_areas": null,
            "object_position": null,
            "object_fit": null,
            "grid_auto_columns": null,
            "margin": null,
            "display": null,
            "left": null
          }
        },
        "77fb38f8b14b43568b12dba79614a3db": {
          "model_module": "@jupyter-widgets/controls",
          "model_name": "DescriptionStyleModel",
          "state": {
            "_view_name": "StyleView",
            "_model_name": "DescriptionStyleModel",
            "description_width": "",
            "_view_module": "@jupyter-widgets/base",
            "_model_module_version": "1.5.0",
            "_view_count": null,
            "_view_module_version": "1.2.0",
            "_model_module": "@jupyter-widgets/controls"
          }
        },
        "24349544ed0f4aa98650e843254cfa55": {
          "model_module": "@jupyter-widgets/base",
          "model_name": "LayoutModel",
          "state": {
            "_view_name": "LayoutView",
            "grid_template_rows": null,
            "right": null,
            "justify_content": null,
            "_view_module": "@jupyter-widgets/base",
            "overflow": null,
            "_model_module_version": "1.2.0",
            "_view_count": null,
            "flex_flow": null,
            "width": null,
            "min_width": null,
            "border": null,
            "align_items": null,
            "bottom": null,
            "_model_module": "@jupyter-widgets/base",
            "top": null,
            "grid_column": null,
            "overflow_y": null,
            "overflow_x": null,
            "grid_auto_flow": null,
            "grid_area": null,
            "grid_template_columns": null,
            "flex": null,
            "_model_name": "LayoutModel",
            "justify_items": null,
            "grid_row": null,
            "max_height": null,
            "align_content": null,
            "visibility": null,
            "align_self": null,
            "height": null,
            "min_height": null,
            "padding": null,
            "grid_auto_rows": null,
            "grid_gap": null,
            "max_width": null,
            "order": null,
            "_view_module_version": "1.2.0",
            "grid_template_areas": null,
            "object_position": null,
            "object_fit": null,
            "grid_auto_columns": null,
            "margin": null,
            "display": null,
            "left": null
          }
        },
        "b4b524f6f93848e78ecd314a6166408c": {
          "model_module": "@jupyter-widgets/controls",
          "model_name": "HBoxModel",
          "state": {
            "_view_name": "HBoxView",
            "_dom_classes": [],
            "_model_name": "HBoxModel",
            "_view_module": "@jupyter-widgets/controls",
            "_model_module_version": "1.5.0",
            "_view_count": null,
            "_view_module_version": "1.5.0",
            "box_style": "",
            "layout": "IPY_MODEL_e4fc2262e177469290fb17cedf169468",
            "_model_module": "@jupyter-widgets/controls",
            "children": [
              "IPY_MODEL_349fc56030e040b3936861f3a79a5c20",
              "IPY_MODEL_6abf9fb473344f1ca1e769588b3e9e07"
            ]
          }
        },
        "e4fc2262e177469290fb17cedf169468": {
          "model_module": "@jupyter-widgets/base",
          "model_name": "LayoutModel",
          "state": {
            "_view_name": "LayoutView",
            "grid_template_rows": null,
            "right": null,
            "justify_content": null,
            "_view_module": "@jupyter-widgets/base",
            "overflow": null,
            "_model_module_version": "1.2.0",
            "_view_count": null,
            "flex_flow": null,
            "width": null,
            "min_width": null,
            "border": null,
            "align_items": null,
            "bottom": null,
            "_model_module": "@jupyter-widgets/base",
            "top": null,
            "grid_column": null,
            "overflow_y": null,
            "overflow_x": null,
            "grid_auto_flow": null,
            "grid_area": null,
            "grid_template_columns": null,
            "flex": null,
            "_model_name": "LayoutModel",
            "justify_items": null,
            "grid_row": null,
            "max_height": null,
            "align_content": null,
            "visibility": null,
            "align_self": null,
            "height": null,
            "min_height": null,
            "padding": null,
            "grid_auto_rows": null,
            "grid_gap": null,
            "max_width": null,
            "order": null,
            "_view_module_version": "1.2.0",
            "grid_template_areas": null,
            "object_position": null,
            "object_fit": null,
            "grid_auto_columns": null,
            "margin": null,
            "display": null,
            "left": null
          }
        },
        "349fc56030e040b3936861f3a79a5c20": {
          "model_module": "@jupyter-widgets/controls",
          "model_name": "FloatProgressModel",
          "state": {
            "_view_name": "ProgressView",
            "style": "IPY_MODEL_3d89bfa0e4c0476aba176139e95a94de",
            "_dom_classes": [],
            "description": "Downloading: 100%",
            "_model_name": "FloatProgressModel",
            "bar_style": "success",
            "max": 112,
            "_view_module": "@jupyter-widgets/controls",
            "_model_module_version": "1.5.0",
            "value": 112,
            "_view_count": null,
            "_view_module_version": "1.5.0",
            "orientation": "horizontal",
            "min": 0,
            "description_tooltip": null,
            "_model_module": "@jupyter-widgets/controls",
            "layout": "IPY_MODEL_823f60625ae14386ae775d0bb05329d6"
          }
        },
        "6abf9fb473344f1ca1e769588b3e9e07": {
          "model_module": "@jupyter-widgets/controls",
          "model_name": "HTMLModel",
          "state": {
            "_view_name": "HTMLView",
            "style": "IPY_MODEL_afe5b1e4626049c9a41646fb5c73865b",
            "_dom_classes": [],
            "description": "",
            "_model_name": "HTMLModel",
            "placeholder": "​",
            "_view_module": "@jupyter-widgets/controls",
            "_model_module_version": "1.5.0",
            "value": " 112/112 [00:00&lt;00:00, 418B/s]",
            "_view_count": null,
            "_view_module_version": "1.5.0",
            "description_tooltip": null,
            "_model_module": "@jupyter-widgets/controls",
            "layout": "IPY_MODEL_872871ec793d4498bcc11a3677c71123"
          }
        },
        "3d89bfa0e4c0476aba176139e95a94de": {
          "model_module": "@jupyter-widgets/controls",
          "model_name": "ProgressStyleModel",
          "state": {
            "_view_name": "StyleView",
            "_model_name": "ProgressStyleModel",
            "description_width": "initial",
            "_view_module": "@jupyter-widgets/base",
            "_model_module_version": "1.5.0",
            "_view_count": null,
            "_view_module_version": "1.2.0",
            "bar_color": null,
            "_model_module": "@jupyter-widgets/controls"
          }
        },
        "823f60625ae14386ae775d0bb05329d6": {
          "model_module": "@jupyter-widgets/base",
          "model_name": "LayoutModel",
          "state": {
            "_view_name": "LayoutView",
            "grid_template_rows": null,
            "right": null,
            "justify_content": null,
            "_view_module": "@jupyter-widgets/base",
            "overflow": null,
            "_model_module_version": "1.2.0",
            "_view_count": null,
            "flex_flow": null,
            "width": null,
            "min_width": null,
            "border": null,
            "align_items": null,
            "bottom": null,
            "_model_module": "@jupyter-widgets/base",
            "top": null,
            "grid_column": null,
            "overflow_y": null,
            "overflow_x": null,
            "grid_auto_flow": null,
            "grid_area": null,
            "grid_template_columns": null,
            "flex": null,
            "_model_name": "LayoutModel",
            "justify_items": null,
            "grid_row": null,
            "max_height": null,
            "align_content": null,
            "visibility": null,
            "align_self": null,
            "height": null,
            "min_height": null,
            "padding": null,
            "grid_auto_rows": null,
            "grid_gap": null,
            "max_width": null,
            "order": null,
            "_view_module_version": "1.2.0",
            "grid_template_areas": null,
            "object_position": null,
            "object_fit": null,
            "grid_auto_columns": null,
            "margin": null,
            "display": null,
            "left": null
          }
        },
        "afe5b1e4626049c9a41646fb5c73865b": {
          "model_module": "@jupyter-widgets/controls",
          "model_name": "DescriptionStyleModel",
          "state": {
            "_view_name": "StyleView",
            "_model_name": "DescriptionStyleModel",
            "description_width": "",
            "_view_module": "@jupyter-widgets/base",
            "_model_module_version": "1.5.0",
            "_view_count": null,
            "_view_module_version": "1.2.0",
            "_model_module": "@jupyter-widgets/controls"
          }
        },
        "872871ec793d4498bcc11a3677c71123": {
          "model_module": "@jupyter-widgets/base",
          "model_name": "LayoutModel",
          "state": {
            "_view_name": "LayoutView",
            "grid_template_rows": null,
            "right": null,
            "justify_content": null,
            "_view_module": "@jupyter-widgets/base",
            "overflow": null,
            "_model_module_version": "1.2.0",
            "_view_count": null,
            "flex_flow": null,
            "width": null,
            "min_width": null,
            "border": null,
            "align_items": null,
            "bottom": null,
            "_model_module": "@jupyter-widgets/base",
            "top": null,
            "grid_column": null,
            "overflow_y": null,
            "overflow_x": null,
            "grid_auto_flow": null,
            "grid_area": null,
            "grid_template_columns": null,
            "flex": null,
            "_model_name": "LayoutModel",
            "justify_items": null,
            "grid_row": null,
            "max_height": null,
            "align_content": null,
            "visibility": null,
            "align_self": null,
            "height": null,
            "min_height": null,
            "padding": null,
            "grid_auto_rows": null,
            "grid_gap": null,
            "max_width": null,
            "order": null,
            "_view_module_version": "1.2.0",
            "grid_template_areas": null,
            "object_position": null,
            "object_fit": null,
            "grid_auto_columns": null,
            "margin": null,
            "display": null,
            "left": null
          }
        },
        "9f3434d1e6864d6cb2eb62437d30dd0b": {
          "model_module": "@jupyter-widgets/controls",
          "model_name": "HBoxModel",
          "state": {
            "_view_name": "HBoxView",
            "_dom_classes": [],
            "_model_name": "HBoxModel",
            "_view_module": "@jupyter-widgets/controls",
            "_model_module_version": "1.5.0",
            "_view_count": null,
            "_view_module_version": "1.5.0",
            "box_style": "",
            "layout": "IPY_MODEL_3e6fe1a1509b4e8da73e503507ff0600",
            "_model_module": "@jupyter-widgets/controls",
            "children": [
              "IPY_MODEL_75f71d19b1f348ce999355920ce4cc9b",
              "IPY_MODEL_493a35f43ec94f86b0927b01f49adb74"
            ]
          }
        },
        "3e6fe1a1509b4e8da73e503507ff0600": {
          "model_module": "@jupyter-widgets/base",
          "model_name": "LayoutModel",
          "state": {
            "_view_name": "LayoutView",
            "grid_template_rows": null,
            "right": null,
            "justify_content": null,
            "_view_module": "@jupyter-widgets/base",
            "overflow": null,
            "_model_module_version": "1.2.0",
            "_view_count": null,
            "flex_flow": null,
            "width": null,
            "min_width": null,
            "border": null,
            "align_items": null,
            "bottom": null,
            "_model_module": "@jupyter-widgets/base",
            "top": null,
            "grid_column": null,
            "overflow_y": null,
            "overflow_x": null,
            "grid_auto_flow": null,
            "grid_area": null,
            "grid_template_columns": null,
            "flex": null,
            "_model_name": "LayoutModel",
            "justify_items": null,
            "grid_row": null,
            "max_height": null,
            "align_content": null,
            "visibility": null,
            "align_self": null,
            "height": null,
            "min_height": null,
            "padding": null,
            "grid_auto_rows": null,
            "grid_gap": null,
            "max_width": null,
            "order": null,
            "_view_module_version": "1.2.0",
            "grid_template_areas": null,
            "object_position": null,
            "object_fit": null,
            "grid_auto_columns": null,
            "margin": null,
            "display": null,
            "left": null
          }
        },
        "75f71d19b1f348ce999355920ce4cc9b": {
          "model_module": "@jupyter-widgets/controls",
          "model_name": "FloatProgressModel",
          "state": {
            "_view_name": "ProgressView",
            "style": "IPY_MODEL_cfb82a8d90bb4bd8833d14aeab111bbc",
            "_dom_classes": [],
            "description": "Downloading: 100%",
            "_model_name": "FloatProgressModel",
            "bar_style": "success",
            "max": 42,
            "_view_module": "@jupyter-widgets/controls",
            "_model_module_version": "1.5.0",
            "value": 42,
            "_view_count": null,
            "_view_module_version": "1.5.0",
            "orientation": "horizontal",
            "min": 0,
            "description_tooltip": null,
            "_model_module": "@jupyter-widgets/controls",
            "layout": "IPY_MODEL_5591371e81464a6a8483195d92426cf4"
          }
        },
        "493a35f43ec94f86b0927b01f49adb74": {
          "model_module": "@jupyter-widgets/controls",
          "model_name": "HTMLModel",
          "state": {
            "_view_name": "HTMLView",
            "style": "IPY_MODEL_dfb9f1602d754e92a53d9412a7028fca",
            "_dom_classes": [],
            "description": "",
            "_model_name": "HTMLModel",
            "placeholder": "​",
            "_view_module": "@jupyter-widgets/controls",
            "_model_module_version": "1.5.0",
            "value": " 42.0/42.0 [00:00&lt;00:00, 560B/s]",
            "_view_count": null,
            "_view_module_version": "1.5.0",
            "description_tooltip": null,
            "_model_module": "@jupyter-widgets/controls",
            "layout": "IPY_MODEL_ec8d46c13c2b4179b85c47ebb0d3d678"
          }
        },
        "cfb82a8d90bb4bd8833d14aeab111bbc": {
          "model_module": "@jupyter-widgets/controls",
          "model_name": "ProgressStyleModel",
          "state": {
            "_view_name": "StyleView",
            "_model_name": "ProgressStyleModel",
            "description_width": "initial",
            "_view_module": "@jupyter-widgets/base",
            "_model_module_version": "1.5.0",
            "_view_count": null,
            "_view_module_version": "1.2.0",
            "bar_color": null,
            "_model_module": "@jupyter-widgets/controls"
          }
        },
        "5591371e81464a6a8483195d92426cf4": {
          "model_module": "@jupyter-widgets/base",
          "model_name": "LayoutModel",
          "state": {
            "_view_name": "LayoutView",
            "grid_template_rows": null,
            "right": null,
            "justify_content": null,
            "_view_module": "@jupyter-widgets/base",
            "overflow": null,
            "_model_module_version": "1.2.0",
            "_view_count": null,
            "flex_flow": null,
            "width": null,
            "min_width": null,
            "border": null,
            "align_items": null,
            "bottom": null,
            "_model_module": "@jupyter-widgets/base",
            "top": null,
            "grid_column": null,
            "overflow_y": null,
            "overflow_x": null,
            "grid_auto_flow": null,
            "grid_area": null,
            "grid_template_columns": null,
            "flex": null,
            "_model_name": "LayoutModel",
            "justify_items": null,
            "grid_row": null,
            "max_height": null,
            "align_content": null,
            "visibility": null,
            "align_self": null,
            "height": null,
            "min_height": null,
            "padding": null,
            "grid_auto_rows": null,
            "grid_gap": null,
            "max_width": null,
            "order": null,
            "_view_module_version": "1.2.0",
            "grid_template_areas": null,
            "object_position": null,
            "object_fit": null,
            "grid_auto_columns": null,
            "margin": null,
            "display": null,
            "left": null
          }
        },
        "dfb9f1602d754e92a53d9412a7028fca": {
          "model_module": "@jupyter-widgets/controls",
          "model_name": "DescriptionStyleModel",
          "state": {
            "_view_name": "StyleView",
            "_model_name": "DescriptionStyleModel",
            "description_width": "",
            "_view_module": "@jupyter-widgets/base",
            "_model_module_version": "1.5.0",
            "_view_count": null,
            "_view_module_version": "1.2.0",
            "_model_module": "@jupyter-widgets/controls"
          }
        },
        "ec8d46c13c2b4179b85c47ebb0d3d678": {
          "model_module": "@jupyter-widgets/base",
          "model_name": "LayoutModel",
          "state": {
            "_view_name": "LayoutView",
            "grid_template_rows": null,
            "right": null,
            "justify_content": null,
            "_view_module": "@jupyter-widgets/base",
            "overflow": null,
            "_model_module_version": "1.2.0",
            "_view_count": null,
            "flex_flow": null,
            "width": null,
            "min_width": null,
            "border": null,
            "align_items": null,
            "bottom": null,
            "_model_module": "@jupyter-widgets/base",
            "top": null,
            "grid_column": null,
            "overflow_y": null,
            "overflow_x": null,
            "grid_auto_flow": null,
            "grid_area": null,
            "grid_template_columns": null,
            "flex": null,
            "_model_name": "LayoutModel",
            "justify_items": null,
            "grid_row": null,
            "max_height": null,
            "align_content": null,
            "visibility": null,
            "align_self": null,
            "height": null,
            "min_height": null,
            "padding": null,
            "grid_auto_rows": null,
            "grid_gap": null,
            "max_width": null,
            "order": null,
            "_view_module_version": "1.2.0",
            "grid_template_areas": null,
            "object_position": null,
            "object_fit": null,
            "grid_auto_columns": null,
            "margin": null,
            "display": null,
            "left": null
          }
        },
        "8cc1e79485674a66ad7588920d488a06": {
          "model_module": "@jupyter-widgets/controls",
          "model_name": "HBoxModel",
          "state": {
            "_view_name": "HBoxView",
            "_dom_classes": [],
            "_model_name": "HBoxModel",
            "_view_module": "@jupyter-widgets/controls",
            "_model_module_version": "1.5.0",
            "_view_count": null,
            "_view_module_version": "1.5.0",
            "box_style": "",
            "layout": "IPY_MODEL_f133a858be4048cead1e8067d057051e",
            "_model_module": "@jupyter-widgets/controls",
            "children": [
              "IPY_MODEL_372f3076fd3f430d814f2c869286ae6d",
              "IPY_MODEL_cd30cb2e514a447d92002982e32298f8"
            ]
          }
        },
        "f133a858be4048cead1e8067d057051e": {
          "model_module": "@jupyter-widgets/base",
          "model_name": "LayoutModel",
          "state": {
            "_view_name": "LayoutView",
            "grid_template_rows": null,
            "right": null,
            "justify_content": null,
            "_view_module": "@jupyter-widgets/base",
            "overflow": null,
            "_model_module_version": "1.2.0",
            "_view_count": null,
            "flex_flow": null,
            "width": null,
            "min_width": null,
            "border": null,
            "align_items": null,
            "bottom": null,
            "_model_module": "@jupyter-widgets/base",
            "top": null,
            "grid_column": null,
            "overflow_y": null,
            "overflow_x": null,
            "grid_auto_flow": null,
            "grid_area": null,
            "grid_template_columns": null,
            "flex": null,
            "_model_name": "LayoutModel",
            "justify_items": null,
            "grid_row": null,
            "max_height": null,
            "align_content": null,
            "visibility": null,
            "align_self": null,
            "height": null,
            "min_height": null,
            "padding": null,
            "grid_auto_rows": null,
            "grid_gap": null,
            "max_width": null,
            "order": null,
            "_view_module_version": "1.2.0",
            "grid_template_areas": null,
            "object_position": null,
            "object_fit": null,
            "grid_auto_columns": null,
            "margin": null,
            "display": null,
            "left": null
          }
        },
        "372f3076fd3f430d814f2c869286ae6d": {
          "model_module": "@jupyter-widgets/controls",
          "model_name": "FloatProgressModel",
          "state": {
            "_view_name": "ProgressView",
            "style": "IPY_MODEL_3e9deb06718a4c8c85cf461a3972b2ef",
            "_dom_classes": [],
            "description": "Downloading: 100%",
            "_model_name": "FloatProgressModel",
            "bar_style": "success",
            "max": 456,
            "_view_module": "@jupyter-widgets/controls",
            "_model_module_version": "1.5.0",
            "value": 456,
            "_view_count": null,
            "_view_module_version": "1.5.0",
            "orientation": "horizontal",
            "min": 0,
            "description_tooltip": null,
            "_model_module": "@jupyter-widgets/controls",
            "layout": "IPY_MODEL_1231287bddbf41269ed37714e9e4a524"
          }
        },
        "cd30cb2e514a447d92002982e32298f8": {
          "model_module": "@jupyter-widgets/controls",
          "model_name": "HTMLModel",
          "state": {
            "_view_name": "HTMLView",
            "style": "IPY_MODEL_75615476ba7b41b2b78bad26a570cd9d",
            "_dom_classes": [],
            "description": "",
            "_model_name": "HTMLModel",
            "placeholder": "​",
            "_view_module": "@jupyter-widgets/controls",
            "_model_module_version": "1.5.0",
            "value": " 456/456 [00:08&lt;00:00, 53.7B/s]",
            "_view_count": null,
            "_view_module_version": "1.5.0",
            "description_tooltip": null,
            "_model_module": "@jupyter-widgets/controls",
            "layout": "IPY_MODEL_4dff364f30014a6096ff4b94ce7767fb"
          }
        },
        "3e9deb06718a4c8c85cf461a3972b2ef": {
          "model_module": "@jupyter-widgets/controls",
          "model_name": "ProgressStyleModel",
          "state": {
            "_view_name": "StyleView",
            "_model_name": "ProgressStyleModel",
            "description_width": "initial",
            "_view_module": "@jupyter-widgets/base",
            "_model_module_version": "1.5.0",
            "_view_count": null,
            "_view_module_version": "1.2.0",
            "bar_color": null,
            "_model_module": "@jupyter-widgets/controls"
          }
        },
        "1231287bddbf41269ed37714e9e4a524": {
          "model_module": "@jupyter-widgets/base",
          "model_name": "LayoutModel",
          "state": {
            "_view_name": "LayoutView",
            "grid_template_rows": null,
            "right": null,
            "justify_content": null,
            "_view_module": "@jupyter-widgets/base",
            "overflow": null,
            "_model_module_version": "1.2.0",
            "_view_count": null,
            "flex_flow": null,
            "width": null,
            "min_width": null,
            "border": null,
            "align_items": null,
            "bottom": null,
            "_model_module": "@jupyter-widgets/base",
            "top": null,
            "grid_column": null,
            "overflow_y": null,
            "overflow_x": null,
            "grid_auto_flow": null,
            "grid_area": null,
            "grid_template_columns": null,
            "flex": null,
            "_model_name": "LayoutModel",
            "justify_items": null,
            "grid_row": null,
            "max_height": null,
            "align_content": null,
            "visibility": null,
            "align_self": null,
            "height": null,
            "min_height": null,
            "padding": null,
            "grid_auto_rows": null,
            "grid_gap": null,
            "max_width": null,
            "order": null,
            "_view_module_version": "1.2.0",
            "grid_template_areas": null,
            "object_position": null,
            "object_fit": null,
            "grid_auto_columns": null,
            "margin": null,
            "display": null,
            "left": null
          }
        },
        "75615476ba7b41b2b78bad26a570cd9d": {
          "model_module": "@jupyter-widgets/controls",
          "model_name": "DescriptionStyleModel",
          "state": {
            "_view_name": "StyleView",
            "_model_name": "DescriptionStyleModel",
            "description_width": "",
            "_view_module": "@jupyter-widgets/base",
            "_model_module_version": "1.5.0",
            "_view_count": null,
            "_view_module_version": "1.2.0",
            "_model_module": "@jupyter-widgets/controls"
          }
        },
        "4dff364f30014a6096ff4b94ce7767fb": {
          "model_module": "@jupyter-widgets/base",
          "model_name": "LayoutModel",
          "state": {
            "_view_name": "LayoutView",
            "grid_template_rows": null,
            "right": null,
            "justify_content": null,
            "_view_module": "@jupyter-widgets/base",
            "overflow": null,
            "_model_module_version": "1.2.0",
            "_view_count": null,
            "flex_flow": null,
            "width": null,
            "min_width": null,
            "border": null,
            "align_items": null,
            "bottom": null,
            "_model_module": "@jupyter-widgets/base",
            "top": null,
            "grid_column": null,
            "overflow_y": null,
            "overflow_x": null,
            "grid_auto_flow": null,
            "grid_area": null,
            "grid_template_columns": null,
            "flex": null,
            "_model_name": "LayoutModel",
            "justify_items": null,
            "grid_row": null,
            "max_height": null,
            "align_content": null,
            "visibility": null,
            "align_self": null,
            "height": null,
            "min_height": null,
            "padding": null,
            "grid_auto_rows": null,
            "grid_gap": null,
            "max_width": null,
            "order": null,
            "_view_module_version": "1.2.0",
            "grid_template_areas": null,
            "object_position": null,
            "object_fit": null,
            "grid_auto_columns": null,
            "margin": null,
            "display": null,
            "left": null
          }
        },
        "1a60b6425fe841b9bfb866f3827bf478": {
          "model_module": "@jupyter-widgets/controls",
          "model_name": "HBoxModel",
          "state": {
            "_view_name": "HBoxView",
            "_dom_classes": [],
            "_model_name": "HBoxModel",
            "_view_module": "@jupyter-widgets/controls",
            "_model_module_version": "1.5.0",
            "_view_count": null,
            "_view_module_version": "1.5.0",
            "box_style": "",
            "layout": "IPY_MODEL_43b91fb1d105494094d4b911e9660a0e",
            "_model_module": "@jupyter-widgets/controls",
            "children": [
              "IPY_MODEL_8d482e42746e46bd95ecb2b20385ab93",
              "IPY_MODEL_889db4474ba54b5f95a0f6868f191620"
            ]
          }
        },
        "43b91fb1d105494094d4b911e9660a0e": {
          "model_module": "@jupyter-widgets/base",
          "model_name": "LayoutModel",
          "state": {
            "_view_name": "LayoutView",
            "grid_template_rows": null,
            "right": null,
            "justify_content": null,
            "_view_module": "@jupyter-widgets/base",
            "overflow": null,
            "_model_module_version": "1.2.0",
            "_view_count": null,
            "flex_flow": null,
            "width": null,
            "min_width": null,
            "border": null,
            "align_items": null,
            "bottom": null,
            "_model_module": "@jupyter-widgets/base",
            "top": null,
            "grid_column": null,
            "overflow_y": null,
            "overflow_x": null,
            "grid_auto_flow": null,
            "grid_area": null,
            "grid_template_columns": null,
            "flex": null,
            "_model_name": "LayoutModel",
            "justify_items": null,
            "grid_row": null,
            "max_height": null,
            "align_content": null,
            "visibility": null,
            "align_self": null,
            "height": null,
            "min_height": null,
            "padding": null,
            "grid_auto_rows": null,
            "grid_gap": null,
            "max_width": null,
            "order": null,
            "_view_module_version": "1.2.0",
            "grid_template_areas": null,
            "object_position": null,
            "object_fit": null,
            "grid_auto_columns": null,
            "margin": null,
            "display": null,
            "left": null
          }
        },
        "8d482e42746e46bd95ecb2b20385ab93": {
          "model_module": "@jupyter-widgets/controls",
          "model_name": "FloatProgressModel",
          "state": {
            "_view_name": "ProgressView",
            "style": "IPY_MODEL_7b552dc424f34243a4eb91d17848dddd",
            "_dom_classes": [],
            "description": "Downloading: 100%",
            "_model_name": "FloatProgressModel",
            "bar_style": "success",
            "max": 441944381,
            "_view_module": "@jupyter-widgets/controls",
            "_model_module_version": "1.5.0",
            "value": 441944381,
            "_view_count": null,
            "_view_module_version": "1.5.0",
            "orientation": "horizontal",
            "min": 0,
            "description_tooltip": null,
            "_model_module": "@jupyter-widgets/controls",
            "layout": "IPY_MODEL_4eaf166e5b3e41bfb8d30db6dc6c21f3"
          }
        },
        "889db4474ba54b5f95a0f6868f191620": {
          "model_module": "@jupyter-widgets/controls",
          "model_name": "HTMLModel",
          "state": {
            "_view_name": "HTMLView",
            "style": "IPY_MODEL_22a65ca642c0451fabc73ba3b0f8fe56",
            "_dom_classes": [],
            "description": "",
            "_model_name": "HTMLModel",
            "placeholder": "​",
            "_view_module": "@jupyter-widgets/controls",
            "_model_module_version": "1.5.0",
            "value": " 442M/442M [00:06&lt;00:00, 63.7MB/s]",
            "_view_count": null,
            "_view_module_version": "1.5.0",
            "description_tooltip": null,
            "_model_module": "@jupyter-widgets/controls",
            "layout": "IPY_MODEL_0966672c7fe54cdabca05cc635d3b514"
          }
        },
        "7b552dc424f34243a4eb91d17848dddd": {
          "model_module": "@jupyter-widgets/controls",
          "model_name": "ProgressStyleModel",
          "state": {
            "_view_name": "StyleView",
            "_model_name": "ProgressStyleModel",
            "description_width": "initial",
            "_view_module": "@jupyter-widgets/base",
            "_model_module_version": "1.5.0",
            "_view_count": null,
            "_view_module_version": "1.2.0",
            "bar_color": null,
            "_model_module": "@jupyter-widgets/controls"
          }
        },
        "4eaf166e5b3e41bfb8d30db6dc6c21f3": {
          "model_module": "@jupyter-widgets/base",
          "model_name": "LayoutModel",
          "state": {
            "_view_name": "LayoutView",
            "grid_template_rows": null,
            "right": null,
            "justify_content": null,
            "_view_module": "@jupyter-widgets/base",
            "overflow": null,
            "_model_module_version": "1.2.0",
            "_view_count": null,
            "flex_flow": null,
            "width": null,
            "min_width": null,
            "border": null,
            "align_items": null,
            "bottom": null,
            "_model_module": "@jupyter-widgets/base",
            "top": null,
            "grid_column": null,
            "overflow_y": null,
            "overflow_x": null,
            "grid_auto_flow": null,
            "grid_area": null,
            "grid_template_columns": null,
            "flex": null,
            "_model_name": "LayoutModel",
            "justify_items": null,
            "grid_row": null,
            "max_height": null,
            "align_content": null,
            "visibility": null,
            "align_self": null,
            "height": null,
            "min_height": null,
            "padding": null,
            "grid_auto_rows": null,
            "grid_gap": null,
            "max_width": null,
            "order": null,
            "_view_module_version": "1.2.0",
            "grid_template_areas": null,
            "object_position": null,
            "object_fit": null,
            "grid_auto_columns": null,
            "margin": null,
            "display": null,
            "left": null
          }
        },
        "22a65ca642c0451fabc73ba3b0f8fe56": {
          "model_module": "@jupyter-widgets/controls",
          "model_name": "DescriptionStyleModel",
          "state": {
            "_view_name": "StyleView",
            "_model_name": "DescriptionStyleModel",
            "description_width": "",
            "_view_module": "@jupyter-widgets/base",
            "_model_module_version": "1.5.0",
            "_view_count": null,
            "_view_module_version": "1.2.0",
            "_model_module": "@jupyter-widgets/controls"
          }
        },
        "0966672c7fe54cdabca05cc635d3b514": {
          "model_module": "@jupyter-widgets/base",
          "model_name": "LayoutModel",
          "state": {
            "_view_name": "LayoutView",
            "grid_template_rows": null,
            "right": null,
            "justify_content": null,
            "_view_module": "@jupyter-widgets/base",
            "overflow": null,
            "_model_module_version": "1.2.0",
            "_view_count": null,
            "flex_flow": null,
            "width": null,
            "min_width": null,
            "border": null,
            "align_items": null,
            "bottom": null,
            "_model_module": "@jupyter-widgets/base",
            "top": null,
            "grid_column": null,
            "overflow_y": null,
            "overflow_x": null,
            "grid_auto_flow": null,
            "grid_area": null,
            "grid_template_columns": null,
            "flex": null,
            "_model_name": "LayoutModel",
            "justify_items": null,
            "grid_row": null,
            "max_height": null,
            "align_content": null,
            "visibility": null,
            "align_self": null,
            "height": null,
            "min_height": null,
            "padding": null,
            "grid_auto_rows": null,
            "grid_gap": null,
            "max_width": null,
            "order": null,
            "_view_module_version": "1.2.0",
            "grid_template_areas": null,
            "object_position": null,
            "object_fit": null,
            "grid_auto_columns": null,
            "margin": null,
            "display": null,
            "left": null
          }
        }
      }
    }
  },
  "cells": [
    {
      "cell_type": "markdown",
      "metadata": {
        "id": "L9G0vcP4vXMd",
        "colab_type": "text"
      },
      "source": [
        "Instanciamos modelos:\n",
        "- GloVe\n",
        "- Bert en español\n",
        "- PersonalityBert multilenguaje\n"
      ]
    },
    {
      "cell_type": "markdown",
      "metadata": {
        "id": "YxeEa69vvf4Y",
        "colab_type": "text"
      },
      "source": [
        "- Armamos una prueba para cada [Música, Empatía, Visión]:\n",
        "   Para cada [GloVe, Beto, PersonalityBertML]:\n",
        "  - Vector de referencia con palabras seleccionadas\n",
        "  - Lista y gráfico con palabras más cercanas a referencia\n",
        "  - Separación en dos grupos usando objetivo estandarizado\n",
        "  - Prueba de hipótesis\n",
        "  - Clasificación de esa característica con fine tuning de T5\n",
        "\n",
        "Instanciar Glove, Word2Vec, Fastext\n",
        "\n",
        "\n",
        "* Pasar texto de pdf en español y de \"tesis en construccion\" lo q pinte de eso \n",
        "* Replicar las comparaciones que se hacen acá con GLove, con Bert embeddings (fixed-width)\n",
        "* Hacer lo que hay en BETO con glove\n",
        "* Revisar explicaciones de todo \n",
        "* La métrica de las trayectorias\n",
        "* Prueba de hipótesis\n",
        "* Dash con gráfico\n"
      ]
    },
    {
      "cell_type": "markdown",
      "metadata": {
        "id": "rgBjDFs9fVTe",
        "colab_type": "text"
      },
      "source": [
        "# Preparación"
      ]
    },
    {
      "cell_type": "code",
      "metadata": {
        "id": "Qll39ZrMhS3X",
        "colab_type": "code",
        "outputId": "7a0f81bc-9035-46e6-ca1c-5a8c54066f9c",
        "colab": {
          "base_uri": "https://localhost:8080/",
          "height": 250
        }
      },
      "source": [
        "!pip install unidecode\n",
        "!pip install umap-learn"
      ],
      "execution_count": 6,
      "outputs": [
        {
          "output_type": "stream",
          "text": [
            "Collecting unidecode\n",
            "\u001b[?25l  Downloading https://files.pythonhosted.org/packages/d0/42/d9edfed04228bacea2d824904cae367ee9efd05e6cce7ceaaedd0b0ad964/Unidecode-1.1.1-py2.py3-none-any.whl (238kB)\n",
            "\r\u001b[K     |█▍                              | 10kB 16.9MB/s eta 0:00:01\r\u001b[K     |██▊                             | 20kB 1.7MB/s eta 0:00:01\r\u001b[K     |████▏                           | 30kB 2.2MB/s eta 0:00:01\r\u001b[K     |█████▌                          | 40kB 2.5MB/s eta 0:00:01\r\u001b[K     |██████▉                         | 51kB 2.0MB/s eta 0:00:01\r\u001b[K     |████████▎                       | 61kB 2.3MB/s eta 0:00:01\r\u001b[K     |█████████▋                      | 71kB 2.4MB/s eta 0:00:01\r\u001b[K     |███████████                     | 81kB 2.7MB/s eta 0:00:01\r\u001b[K     |████████████▍                   | 92kB 2.9MB/s eta 0:00:01\r\u001b[K     |█████████████▊                  | 102kB 2.8MB/s eta 0:00:01\r\u001b[K     |███████████████▏                | 112kB 2.8MB/s eta 0:00:01\r\u001b[K     |████████████████▌               | 122kB 2.8MB/s eta 0:00:01\r\u001b[K     |█████████████████▉              | 133kB 2.8MB/s eta 0:00:01\r\u001b[K     |███████████████████▎            | 143kB 2.8MB/s eta 0:00:01\r\u001b[K     |████████████████████▋           | 153kB 2.8MB/s eta 0:00:01\r\u001b[K     |██████████████████████          | 163kB 2.8MB/s eta 0:00:01\r\u001b[K     |███████████████████████▍        | 174kB 2.8MB/s eta 0:00:01\r\u001b[K     |████████████████████████▊       | 184kB 2.8MB/s eta 0:00:01\r\u001b[K     |██████████████████████████▏     | 194kB 2.8MB/s eta 0:00:01\r\u001b[K     |███████████████████████████▌    | 204kB 2.8MB/s eta 0:00:01\r\u001b[K     |████████████████████████████▉   | 215kB 2.8MB/s eta 0:00:01\r\u001b[K     |██████████████████████████████▎ | 225kB 2.8MB/s eta 0:00:01\r\u001b[K     |███████████████████████████████▋| 235kB 2.8MB/s eta 0:00:01\r\u001b[K     |████████████████████████████████| 245kB 2.8MB/s \n",
            "\u001b[?25hInstalling collected packages: unidecode\n",
            "Successfully installed unidecode-1.1.1\n",
            "Requirement already satisfied: umap-learn in /usr/local/lib/python3.6/dist-packages (0.4.4)\n",
            "Requirement already satisfied: tbb in /usr/local/lib/python3.6/dist-packages (from umap-learn) (2020.0.133)\n",
            "Requirement already satisfied: numpy>=1.17 in /usr/local/lib/python3.6/dist-packages (from umap-learn) (1.18.5)\n",
            "Requirement already satisfied: numba!=0.47,>=0.46 in /usr/local/lib/python3.6/dist-packages (from umap-learn) (0.48.0)\n",
            "Requirement already satisfied: scikit-learn>=0.20 in /usr/local/lib/python3.6/dist-packages (from umap-learn) (0.22.2.post1)\n",
            "Requirement already satisfied: scipy>=1.3.1 in /usr/local/lib/python3.6/dist-packages (from umap-learn) (1.4.1)\n",
            "Requirement already satisfied: setuptools in /usr/local/lib/python3.6/dist-packages (from numba!=0.47,>=0.46->umap-learn) (47.1.1)\n",
            "Requirement already satisfied: llvmlite<0.32.0,>=0.31.0dev0 in /usr/local/lib/python3.6/dist-packages (from numba!=0.47,>=0.46->umap-learn) (0.31.0)\n",
            "Requirement already satisfied: joblib>=0.11 in /usr/local/lib/python3.6/dist-packages (from scikit-learn>=0.20->umap-learn) (0.15.1)\n"
          ],
          "name": "stdout"
        }
      ]
    },
    {
      "cell_type": "code",
      "metadata": {
        "id": "jtmUscXMfWjT",
        "colab_type": "code",
        "outputId": "a4f01cb1-d95a-48cb-ee20-12af339bd98a",
        "colab": {
          "base_uri": "https://localhost:8080/",
          "height": 116
        }
      },
      "source": [
        "# importamos\n",
        "import numpy as np\n",
        "import pandas as pd\n",
        "import scipy.stats as st\n",
        "import unidecode\n",
        "import nltk\n",
        "from nltk.corpus import stopwords\n",
        "nltk.download('punkt')\n",
        "nltk.download('stopwords')\n",
        "import spacy\n",
        "from google.colab import files\n",
        "\n",
        "import matplotlib.pyplot as plt\n",
        "import seaborn as sns\n",
        "%matplotlib inline\n",
        "\n",
        "import IPython\n",
        "import numpy as np\n",
        "import plotly.graph_objs as go\n",
        "from plotly.offline import init_notebook_mode, iplot, plot\n",
        "\n",
        "pd.options.display.max_colwidth = 200\n",
        "pd.options.display.max_columns = 200\n",
        "pd.options.display.max_rows = 200"
      ],
      "execution_count": 7,
      "outputs": [
        {
          "output_type": "stream",
          "text": [
            "[nltk_data] Downloading package punkt to /root/nltk_data...\n",
            "[nltk_data]   Unzipping tokenizers/punkt.zip.\n",
            "[nltk_data] Downloading package stopwords to /root/nltk_data...\n",
            "[nltk_data]   Unzipping corpora/stopwords.zip.\n"
          ],
          "name": "stdout"
        },
        {
          "output_type": "stream",
          "text": [
            "/usr/local/lib/python3.6/dist-packages/statsmodels/tools/_testing.py:19: FutureWarning: pandas.util.testing is deprecated. Use the functions in the public API at pandas.testing instead.\n",
            "  import pandas.util.testing as tm\n"
          ],
          "name": "stderr"
        }
      ]
    },
    {
      "cell_type": "markdown",
      "metadata": {
        "id": "nD3-ukdAaXb_",
        "colab_type": "text"
      },
      "source": [
        "## Instanciamos modelos"
      ]
    },
    {
      "cell_type": "markdown",
      "metadata": {
        "id": "J7ExLXRFalLC",
        "colab_type": "text"
      },
      "source": [
        "### Glove"
      ]
    },
    {
      "cell_type": "code",
      "metadata": {
        "id": "Ji95HjCUSOmq",
        "colab_type": "code",
        "outputId": "e9515100-8edb-408f-ecfd-7f52d15ba378",
        "colab": {
          "base_uri": "https://localhost:8080/",
          "height": 483
        }
      },
      "source": [
        "%%time\n",
        "# instalamos librerias\n",
        "#!python -m spacy download es_core_news_md\n",
        "\n",
        "# Si quisieramos usar otros embeddings:\n",
        "# https://github.com/uchile-nlp/spanish-word-embeddings\n",
        "!wget -nc http://dcc.uchile.cl/~jperez/word-embeddings/glove-sbwc.i25.vec.gz\n",
        "!python -m spacy init-model es /mindspace --vectors-loc glove-sbwc.i25.vec.gz"
      ],
      "execution_count": 8,
      "outputs": [
        {
          "output_type": "stream",
          "text": [
            "--2020-06-09 21:19:55--  http://dcc.uchile.cl/~jperez/word-embeddings/glove-sbwc.i25.vec.gz\n",
            "Resolving dcc.uchile.cl (dcc.uchile.cl)... 192.80.24.11\n",
            "Connecting to dcc.uchile.cl (dcc.uchile.cl)|192.80.24.11|:80... connected.\n",
            "HTTP request sent, awaiting response... 301 Moved Permanently\n",
            "Location: https://www.dcc.uchile.cl/~jperez/word-embeddings/glove-sbwc.i25.vec.gz [following]\n",
            "--2020-06-09 21:19:56--  https://www.dcc.uchile.cl/~jperez/word-embeddings/glove-sbwc.i25.vec.gz\n",
            "Resolving www.dcc.uchile.cl (www.dcc.uchile.cl)... 192.80.24.11, 200.9.99.213\n",
            "Connecting to www.dcc.uchile.cl (www.dcc.uchile.cl)|192.80.24.11|:443... connected.\n",
            "HTTP request sent, awaiting response... 302 Found\n",
            "Location: https://users.dcc.uchile.cl/~jperez/word-embeddings/glove-sbwc.i25.vec.gz [following]\n",
            "--2020-06-09 21:19:57--  https://users.dcc.uchile.cl/~jperez/word-embeddings/glove-sbwc.i25.vec.gz\n",
            "Resolving users.dcc.uchile.cl (users.dcc.uchile.cl)... 192.80.24.4, 200.9.99.211\n",
            "Connecting to users.dcc.uchile.cl (users.dcc.uchile.cl)|192.80.24.4|:443... connected.\n",
            "HTTP request sent, awaiting response... 200 OK\n",
            "Length: 949886421 (906M) [application/x-gzip]\n",
            "Saving to: ‘glove-sbwc.i25.vec.gz’\n",
            "\n",
            "glove-sbwc.i25.vec. 100%[===================>] 905.88M  6.92MB/s    in 2m 37s  \n",
            "\n",
            "2020-06-09 21:22:35 (5.76 MB/s) - ‘glove-sbwc.i25.vec.gz’ saved [949886421/949886421]\n",
            "\n",
            "\u001b[2K\u001b[38;5;2m✔ Successfully created model\u001b[0m\n",
            "855380it [01:26, 9859.84it/s]\n",
            "\u001b[2K\u001b[38;5;2m✔ Loaded vectors from glove-sbwc.i25.vec.gz\u001b[0m\n",
            "\u001b[38;5;2m✔ Sucessfully compiled vocab\u001b[0m\n",
            "855601 entries, 855380 vectors\n",
            "CPU times: user 1.62 s, sys: 401 ms, total: 2.02 s\n",
            "Wall time: 4min 35s\n"
          ],
          "name": "stdout"
        }
      ]
    },
    {
      "cell_type": "code",
      "metadata": {
        "id": "k-YF8y7Bc5n9",
        "colab_type": "code",
        "colab": {}
      },
      "source": [
        "# Cargamos la data del modulo para español\n",
        "nlp = spacy.load('/mindspace')"
      ],
      "execution_count": 0,
      "outputs": []
    },
    {
      "cell_type": "markdown",
      "metadata": {
        "id": "cpJ21jVZ_y40",
        "colab_type": "text"
      },
      "source": [
        "### Transformer"
      ]
    },
    {
      "cell_type": "code",
      "metadata": {
        "id": "tKyeUvEc_pjp",
        "colab_type": "code",
        "outputId": "00b841d6-43e9-4f8a-cec6-3735d0f8bc51",
        "colab": {
          "base_uri": "https://localhost:8080/",
          "height": 1000
        }
      },
      "source": [
        "# Transfomers\n",
        "# Instalamos libreria y descargamos los modelos de github\n",
        "\n",
        "!pip install transformers\n",
        "!wget https://users.dcc.uchile.cl/~jperez/beto/cased_2M/pytorch_weights.tar.gz \n",
        "!wget https://users.dcc.uchile.cl/~jperez/beto/cased_2M/vocab.txt \n",
        "!wget https://users.dcc.uchile.cl/~jperez/beto/cased_2M/config.json \n",
        "!tar -xzvf pytorch_weights.tar.gz\n",
        "!mv config.json pytorch/.\n",
        "!mv vocab.txt pytorch/."
      ],
      "execution_count": 10,
      "outputs": [
        {
          "output_type": "stream",
          "text": [
            "Collecting transformers\n",
            "\u001b[?25l  Downloading https://files.pythonhosted.org/packages/48/35/ad2c5b1b8f99feaaf9d7cdadaeef261f098c6e1a6a2935d4d07662a6b780/transformers-2.11.0-py3-none-any.whl (674kB)\n",
            "\u001b[K     |████████████████████████████████| 675kB 2.9MB/s \n",
            "\u001b[?25hRequirement already satisfied: tqdm>=4.27 in /usr/local/lib/python3.6/dist-packages (from transformers) (4.41.1)\n",
            "Requirement already satisfied: regex!=2019.12.17 in /usr/local/lib/python3.6/dist-packages (from transformers) (2019.12.20)\n",
            "Collecting sentencepiece\n",
            "\u001b[?25l  Downloading https://files.pythonhosted.org/packages/d4/a4/d0a884c4300004a78cca907a6ff9a5e9fe4f090f5d95ab341c53d28cbc58/sentencepiece-0.1.91-cp36-cp36m-manylinux1_x86_64.whl (1.1MB)\n",
            "\u001b[K     |████████████████████████████████| 1.1MB 14.0MB/s \n",
            "\u001b[?25hRequirement already satisfied: packaging in /usr/local/lib/python3.6/dist-packages (from transformers) (20.4)\n",
            "Collecting sacremoses\n",
            "\u001b[?25l  Downloading https://files.pythonhosted.org/packages/7d/34/09d19aff26edcc8eb2a01bed8e98f13a1537005d31e95233fd48216eed10/sacremoses-0.0.43.tar.gz (883kB)\n",
            "\u001b[K     |████████████████████████████████| 890kB 19.2MB/s \n",
            "\u001b[?25hRequirement already satisfied: requests in /usr/local/lib/python3.6/dist-packages (from transformers) (2.23.0)\n",
            "Requirement already satisfied: dataclasses; python_version < \"3.7\" in /usr/local/lib/python3.6/dist-packages (from transformers) (0.7)\n",
            "Collecting tokenizers==0.7.0\n",
            "\u001b[?25l  Downloading https://files.pythonhosted.org/packages/14/e5/a26eb4716523808bb0a799fcfdceb6ebf77a18169d9591b2f46a9adb87d9/tokenizers-0.7.0-cp36-cp36m-manylinux1_x86_64.whl (3.8MB)\n",
            "\u001b[K     |████████████████████████████████| 3.8MB 24.0MB/s \n",
            "\u001b[?25hRequirement already satisfied: numpy in /usr/local/lib/python3.6/dist-packages (from transformers) (1.18.5)\n",
            "Requirement already satisfied: filelock in /usr/local/lib/python3.6/dist-packages (from transformers) (3.0.12)\n",
            "Requirement already satisfied: six in /usr/local/lib/python3.6/dist-packages (from packaging->transformers) (1.12.0)\n",
            "Requirement already satisfied: pyparsing>=2.0.2 in /usr/local/lib/python3.6/dist-packages (from packaging->transformers) (2.4.7)\n",
            "Requirement already satisfied: click in /usr/local/lib/python3.6/dist-packages (from sacremoses->transformers) (7.1.2)\n",
            "Requirement already satisfied: joblib in /usr/local/lib/python3.6/dist-packages (from sacremoses->transformers) (0.15.1)\n",
            "Requirement already satisfied: chardet<4,>=3.0.2 in /usr/local/lib/python3.6/dist-packages (from requests->transformers) (3.0.4)\n",
            "Requirement already satisfied: urllib3!=1.25.0,!=1.25.1,<1.26,>=1.21.1 in /usr/local/lib/python3.6/dist-packages (from requests->transformers) (1.24.3)\n",
            "Requirement already satisfied: idna<3,>=2.5 in /usr/local/lib/python3.6/dist-packages (from requests->transformers) (2.9)\n",
            "Requirement already satisfied: certifi>=2017.4.17 in /usr/local/lib/python3.6/dist-packages (from requests->transformers) (2020.4.5.1)\n",
            "Building wheels for collected packages: sacremoses\n",
            "  Building wheel for sacremoses (setup.py) ... \u001b[?25l\u001b[?25hdone\n",
            "  Created wheel for sacremoses: filename=sacremoses-0.0.43-cp36-none-any.whl size=893260 sha256=c823f6de53ba01de8922a4ea35c45eb1f1045599922f3180d8b3bacddcd030ba\n",
            "  Stored in directory: /root/.cache/pip/wheels/29/3c/fd/7ce5c3f0666dab31a50123635e6fb5e19ceb42ce38d4e58f45\n",
            "Successfully built sacremoses\n",
            "Installing collected packages: sentencepiece, sacremoses, tokenizers, transformers\n",
            "Successfully installed sacremoses-0.0.43 sentencepiece-0.1.91 tokenizers-0.7.0 transformers-2.11.0\n",
            "--2020-06-09 21:24:43--  https://users.dcc.uchile.cl/~jperez/beto/cased_2M/pytorch_weights.tar.gz\n",
            "Resolving users.dcc.uchile.cl (users.dcc.uchile.cl)... 200.9.99.211, 192.80.24.4\n",
            "Connecting to users.dcc.uchile.cl (users.dcc.uchile.cl)|200.9.99.211|:443... connected.\n",
            "HTTP request sent, awaiting response... 200 OK\n",
            "Length: 409871727 (391M) [application/x-gzip]\n",
            "Saving to: ‘pytorch_weights.tar.gz’\n",
            "\n",
            "pytorch_weights.tar 100%[===================>] 390.88M  11.3MB/s    in 34s     \n",
            "\n",
            "2020-06-09 21:25:19 (11.4 MB/s) - ‘pytorch_weights.tar.gz’ saved [409871727/409871727]\n",
            "\n",
            "--2020-06-09 21:25:20--  https://users.dcc.uchile.cl/~jperez/beto/cased_2M/vocab.txt\n",
            "Resolving users.dcc.uchile.cl (users.dcc.uchile.cl)... 200.9.99.211, 192.80.24.4\n",
            "Connecting to users.dcc.uchile.cl (users.dcc.uchile.cl)|200.9.99.211|:443... connected.\n",
            "HTTP request sent, awaiting response... 200 OK\n",
            "Length: 242120 (236K) [text/plain]\n",
            "Saving to: ‘vocab.txt’\n",
            "\n",
            "vocab.txt           100%[===================>] 236.45K   437KB/s    in 0.5s    \n",
            "\n",
            "2020-06-09 21:25:21 (437 KB/s) - ‘vocab.txt’ saved [242120/242120]\n",
            "\n",
            "--2020-06-09 21:25:22--  https://users.dcc.uchile.cl/~jperez/beto/cased_2M/config.json\n",
            "Resolving users.dcc.uchile.cl (users.dcc.uchile.cl)... 192.80.24.4, 200.9.99.211\n",
            "Connecting to users.dcc.uchile.cl (users.dcc.uchile.cl)|192.80.24.4|:443... connected.\n",
            "HTTP request sent, awaiting response... 200 OK\n",
            "Length: 313 [application/json]\n",
            "Saving to: ‘config.json’\n",
            "\n",
            "config.json         100%[===================>]     313  --.-KB/s    in 0s      \n",
            "\n",
            "2020-06-09 21:25:23 (55.8 MB/s) - ‘config.json’ saved [313/313]\n",
            "\n",
            "pytorch/\n",
            "pytorch/pytorch_model.bin\n"
          ],
          "name": "stdout"
        }
      ]
    },
    {
      "cell_type": "code",
      "metadata": {
        "id": "IgCprobzcIc5",
        "colab_type": "code",
        "outputId": "905845f2-0971-4971-a654-3e737ef2e7a8",
        "colab": {
          "base_uri": "https://localhost:8080/",
          "height": 308,
          "referenced_widgets": [
            "4094429878f14a45ac946a1d4e02b214",
            "f000497842b04572b12dc79f29964084",
            "f3a0e8e204b54aabb21ebb267e0b0eaa",
            "34496ca56cc845b1ba287d0abae14bb4",
            "f71c8ad16d354a1099a94325f4393988",
            "6125dd94d2c84e7ba1babb047b4289a2",
            "93d8657480214156a26359507fc0db71",
            "80aa1f2e7ebc4eecb513a9192c07df5d",
            "3fed013020004472ba0bb34b33b8e71c",
            "6500486e82c64b3aafecf89fafcbcc95",
            "7ca6fba4ab494739b0e827dd196f0514",
            "f227a1c46b544f878269927f1ed4b99f",
            "2459a3f0ef2943a29c41470198fae863",
            "1da8280b16d44016a19ccafd42940bb9",
            "77fb38f8b14b43568b12dba79614a3db",
            "24349544ed0f4aa98650e843254cfa55",
            "b4b524f6f93848e78ecd314a6166408c",
            "e4fc2262e177469290fb17cedf169468",
            "349fc56030e040b3936861f3a79a5c20",
            "6abf9fb473344f1ca1e769588b3e9e07",
            "3d89bfa0e4c0476aba176139e95a94de",
            "823f60625ae14386ae775d0bb05329d6",
            "afe5b1e4626049c9a41646fb5c73865b",
            "872871ec793d4498bcc11a3677c71123",
            "9f3434d1e6864d6cb2eb62437d30dd0b",
            "3e6fe1a1509b4e8da73e503507ff0600",
            "75f71d19b1f348ce999355920ce4cc9b",
            "493a35f43ec94f86b0927b01f49adb74",
            "cfb82a8d90bb4bd8833d14aeab111bbc",
            "5591371e81464a6a8483195d92426cf4",
            "dfb9f1602d754e92a53d9412a7028fca",
            "ec8d46c13c2b4179b85c47ebb0d3d678",
            "8cc1e79485674a66ad7588920d488a06",
            "f133a858be4048cead1e8067d057051e",
            "372f3076fd3f430d814f2c869286ae6d",
            "cd30cb2e514a447d92002982e32298f8",
            "3e9deb06718a4c8c85cf461a3972b2ef",
            "1231287bddbf41269ed37714e9e4a524",
            "75615476ba7b41b2b78bad26a570cd9d",
            "4dff364f30014a6096ff4b94ce7767fb",
            "1a60b6425fe841b9bfb866f3827bf478",
            "43b91fb1d105494094d4b911e9660a0e",
            "8d482e42746e46bd95ecb2b20385ab93",
            "889db4474ba54b5f95a0f6868f191620",
            "7b552dc424f34243a4eb91d17848dddd",
            "4eaf166e5b3e41bfb8d30db6dc6c21f3",
            "22a65ca642c0451fabc73ba3b0f8fe56",
            "0966672c7fe54cdabca05cc635d3b514"
          ]
        }
      },
      "source": [
        "import torch\n",
        "from transformers import BertForMaskedLM, BertTokenizer\n",
        "\n",
        "tokenizer = BertTokenizer.from_pretrained(\"dccuchile/bert-base-spanish-wwm-uncased\", do_lower_case=False)\n",
        "model = BertForMaskedLM.from_pretrained(\"dccuchile/bert-base-spanish-wwm-uncased\")"
      ],
      "execution_count": 11,
      "outputs": [
        {
          "output_type": "display_data",
          "data": {
            "application/vnd.jupyter.widget-view+json": {
              "model_id": "4094429878f14a45ac946a1d4e02b214",
              "version_minor": 0,
              "version_major": 2
            },
            "text/plain": [
              "HBox(children=(FloatProgress(value=0.0, description='Downloading', max=248047.0, style=ProgressStyle(descripti…"
            ]
          },
          "metadata": {
            "tags": []
          }
        },
        {
          "output_type": "stream",
          "text": [
            "\n"
          ],
          "name": "stdout"
        },
        {
          "output_type": "display_data",
          "data": {
            "application/vnd.jupyter.widget-view+json": {
              "model_id": "3fed013020004472ba0bb34b33b8e71c",
              "version_minor": 0,
              "version_major": 2
            },
            "text/plain": [
              "HBox(children=(FloatProgress(value=0.0, description='Downloading', max=2.0, style=ProgressStyle(description_wi…"
            ]
          },
          "metadata": {
            "tags": []
          }
        },
        {
          "output_type": "stream",
          "text": [
            "\n"
          ],
          "name": "stdout"
        },
        {
          "output_type": "display_data",
          "data": {
            "application/vnd.jupyter.widget-view+json": {
              "model_id": "b4b524f6f93848e78ecd314a6166408c",
              "version_minor": 0,
              "version_major": 2
            },
            "text/plain": [
              "HBox(children=(FloatProgress(value=0.0, description='Downloading', max=112.0, style=ProgressStyle(description_…"
            ]
          },
          "metadata": {
            "tags": []
          }
        },
        {
          "output_type": "stream",
          "text": [
            "\n"
          ],
          "name": "stdout"
        },
        {
          "output_type": "display_data",
          "data": {
            "application/vnd.jupyter.widget-view+json": {
              "model_id": "9f3434d1e6864d6cb2eb62437d30dd0b",
              "version_minor": 0,
              "version_major": 2
            },
            "text/plain": [
              "HBox(children=(FloatProgress(value=0.0, description='Downloading', max=42.0, style=ProgressStyle(description_w…"
            ]
          },
          "metadata": {
            "tags": []
          }
        },
        {
          "output_type": "stream",
          "text": [
            "\n"
          ],
          "name": "stdout"
        },
        {
          "output_type": "display_data",
          "data": {
            "application/vnd.jupyter.widget-view+json": {
              "model_id": "8cc1e79485674a66ad7588920d488a06",
              "version_minor": 0,
              "version_major": 2
            },
            "text/plain": [
              "HBox(children=(FloatProgress(value=0.0, description='Downloading', max=456.0, style=ProgressStyle(description_…"
            ]
          },
          "metadata": {
            "tags": []
          }
        },
        {
          "output_type": "stream",
          "text": [
            "\n"
          ],
          "name": "stdout"
        },
        {
          "output_type": "display_data",
          "data": {
            "application/vnd.jupyter.widget-view+json": {
              "model_id": "1a60b6425fe841b9bfb866f3827bf478",
              "version_minor": 0,
              "version_major": 2
            },
            "text/plain": [
              "HBox(children=(FloatProgress(value=0.0, description='Downloading', max=441944381.0, style=ProgressStyle(descri…"
            ]
          },
          "metadata": {
            "tags": []
          }
        },
        {
          "output_type": "stream",
          "text": [
            "\n"
          ],
          "name": "stdout"
        }
      ]
    },
    {
      "cell_type": "markdown",
      "metadata": {
        "id": "re3xAtTtlSDK",
        "colab_type": "text"
      },
      "source": [
        "## Preprocesamiento"
      ]
    },
    {
      "cell_type": "code",
      "metadata": {
        "id": "Viy1B5sD88eb",
        "colab_type": "code",
        "outputId": "f315b7ae-a9ba-4c1d-8984-efec07ce910d",
        "colab": {
          "base_uri": "https://localhost:8080/",
          "height": 137
        }
      },
      "source": [
        "# las 50.000 palabras de español mas usadas en subtitulos de peliculas\n",
        "voc = pd.read_csv('https://github.com/hermitdave/FrequencyWords/raw/master/content/2018/es/es_50k.txt', sep=' ', header=None)\n",
        "voc.columns = ['Palabras', 'Freq']\n",
        "voc = voc.set_index('Palabras')\n",
        "voc.sample(2)"
      ],
      "execution_count": 12,
      "outputs": [
        {
          "output_type": "execute_result",
          "data": {
            "text/html": [
              "<div>\n",
              "<style scoped>\n",
              "    .dataframe tbody tr th:only-of-type {\n",
              "        vertical-align: middle;\n",
              "    }\n",
              "\n",
              "    .dataframe tbody tr th {\n",
              "        vertical-align: top;\n",
              "    }\n",
              "\n",
              "    .dataframe thead th {\n",
              "        text-align: right;\n",
              "    }\n",
              "</style>\n",
              "<table border=\"1\" class=\"dataframe\">\n",
              "  <thead>\n",
              "    <tr style=\"text-align: right;\">\n",
              "      <th></th>\n",
              "      <th>Freq</th>\n",
              "    </tr>\n",
              "    <tr>\n",
              "      <th>Palabras</th>\n",
              "      <th></th>\n",
              "    </tr>\n",
              "  </thead>\n",
              "  <tbody>\n",
              "    <tr>\n",
              "      <th>centramos</th>\n",
              "      <td>268</td>\n",
              "    </tr>\n",
              "    <tr>\n",
              "      <th>agüero</th>\n",
              "      <td>253</td>\n",
              "    </tr>\n",
              "  </tbody>\n",
              "</table>\n",
              "</div>"
            ],
            "text/plain": [
              "           Freq\n",
              "Palabras       \n",
              "centramos   268\n",
              "agüero      253"
            ]
          },
          "metadata": {
            "tags": []
          },
          "execution_count": 12
        }
      ]
    },
    {
      "cell_type": "code",
      "metadata": {
        "id": "58BWgb1IdVWI",
        "colab_type": "code",
        "outputId": "849a3819-df55-4c71-cfce-ba857115dba2",
        "colab": {
          "base_uri": "https://localhost:8080/",
          "height": 33
        }
      },
      "source": [
        "stop_words = pd.read_csv('https://github.com/Alir3z4/stop-words/raw/master/spanish.txt', sep='\\n', header=None)\n",
        "stop_words = set(stopwords.words('spanish'))\n",
        "np.random.choice(list(stop_words), 4)"
      ],
      "execution_count": 13,
      "outputs": [
        {
          "output_type": "execute_result",
          "data": {
            "text/plain": [
              "array(['quienes', 'tanto', 'estábamos', 'hubiste'], dtype='<U12')"
            ]
          },
          "metadata": {
            "tags": []
          },
          "execution_count": 13
        }
      ]
    },
    {
      "cell_type": "code",
      "metadata": {
        "id": "rzgYtQnRLq78",
        "colab_type": "code",
        "outputId": "40bc87a4-1127-4fb8-b639-8f25241e123f",
        "colab": {
          "base_uri": "https://localhost:8080/",
          "height": 33
        }
      },
      "source": [
        "#palabras generales de referencia\n",
        "palabras = pd.read_csv('https://github.com/institutohumai/sesgos/raw/master/data/palabras.csv', encoding = 'utf8').columns.values\n",
        "palabras[:4]"
      ],
      "execution_count": 14,
      "outputs": [
        {
          "output_type": "execute_result",
          "data": {
            "text/plain": [
              "array(['empatía', ' empatia', ' hola', ' odio'], dtype=object)"
            ]
          },
          "metadata": {
            "tags": []
          },
          "execution_count": 14
        }
      ]
    },
    {
      "cell_type": "code",
      "metadata": {
        "id": "geI1dltQyQSb",
        "colab_type": "code",
        "colab": {}
      },
      "source": [
        "# filtro de las 800.000 las que se corresponden con las 50.000 mas usadas y saco las stopwords\n",
        "# con el ampersand se queda . con lo que cruza, con diference le resta las stopwords\n",
        "# me quedo con los embeddings de esas palabras solamente\n",
        "# vecs = vecs.loc[(voc.index & vecs.index).difference(set(stop.values.flat))]\n",
        "# vecs.shape"
      ],
      "execution_count": 0,
      "outputs": []
    },
    {
      "cell_type": "markdown",
      "metadata": {
        "id": "7GoD4svUCBHa",
        "colab_type": "text"
      },
      "source": [
        "# Pruebas"
      ]
    },
    {
      "cell_type": "markdown",
      "metadata": {
        "id": "dYRN44gRfjvV",
        "colab_type": "text"
      },
      "source": [
        "### Funciones para pruebas"
      ]
    },
    {
      "cell_type": "code",
      "metadata": {
        "id": "Z-hAQI0hCbBF",
        "colab_type": "code",
        "colab": {}
      },
      "source": [
        "# Calcular distancia coseno entre vectores. El arroba es producto interno\n",
        "def similitud_coseno(x, y):\n",
        "    return x @ y / (np.linalg.norm(x) * np.linalg.norm(y))"
      ],
      "execution_count": 0,
      "outputs": []
    },
    {
      "cell_type": "code",
      "metadata": {
        "id": "KCTaFo76zIKI",
        "colab_type": "code",
        "colab": {}
      },
      "source": [
        "# version rápida\n",
        "import numba\n",
        "@numba.jit(target='cpu', nopython=True)\n",
        "def similitud_coseno(u, v):\n",
        "    m = u.shape[0]\n",
        "    udotv = 0\n",
        "    u_norm = 0\n",
        "    v_norm = 0\n",
        "    for i in range(m):\n",
        "        if (np.isnan(u[i])) or (np.isnan(v[i])):\n",
        "            continue\n",
        "            \n",
        "        udotv += u[i] * v[i]\n",
        "        u_norm += u[i] * u[i]\n",
        "        v_norm += v[i] * v[i]\n",
        "\n",
        "    u_norm = np.sqrt(u_norm)\n",
        "    v_norm = np.sqrt(v_norm)\n",
        "    \n",
        "    if (u_norm == 0) or (v_norm == 0):\n",
        "        ratio = 1.0\n",
        "    else:\n",
        "        ratio = udotv / (u_norm * v_norm)\n",
        "    return ratio"
      ],
      "execution_count": 0,
      "outputs": []
    },
    {
      "cell_type": "code",
      "metadata": {
        "id": "YxsPad1CRRuy",
        "colab_type": "code",
        "colab": {}
      },
      "source": [
        "def str2bert(x):\n",
        "  tokens = tokenizer.encode(x)\n",
        "  input_ids = torch.tensor(tokens).unsqueeze(0)  # Batch size 1\n",
        "  outputs = model(input_ids)\n",
        "  hidden = outputs[0][-1][0]\n",
        "  return hidden.detach().numpy()"
      ],
      "execution_count": 0,
      "outputs": []
    },
    {
      "cell_type": "code",
      "metadata": {
        "id": "M6pNS_aAb8nY",
        "colab_type": "code",
        "colab": {}
      },
      "source": [
        "def most_similar(vector, other_vectors):\n",
        "  from scipy.spatial.distance import cosine\n",
        "\n",
        "  scores = [cosine(vector, vec) for vec in other_vectors]\n",
        "  ranked_candidates_idx = sorted([(score,idx) for idx,score in enumerate(scores)])\n",
        "  ranked_candidates = [example_sentences[idx] for _,idx in ranked_candidates_idx[:3]]\n",
        "  return ranked_candidates"
      ],
      "execution_count": 0,
      "outputs": []
    },
    {
      "cell_type": "code",
      "metadata": {
        "id": "QggiT9Lx7U3q",
        "colab_type": "code",
        "colab": {}
      },
      "source": [
        "def plot3D_sentences(sentences, svectors, colours, umap=False):\n",
        "  from sklearn.decomposition import PCA\n",
        "  redux = PCA(n_components=3)\n",
        "  principalComponents = redux.fit_transform(svectors)\n",
        "  if umap:\n",
        "    redux = umap.UMAP(n_components=3)\n",
        "    redux = (redux-redux.mean())/(redux.std())\n",
        "    principalComponents = redux.fit_transform(svectors)\n",
        "  df = pd.DataFrame(data = principalComponents, columns = ['x', 'y','z'])\n",
        "  df['color'] = pd.Series([sns.color_palette(\"GnBu_d\").as_hex()[i] for i in colours])\n",
        "  df.index = sentences\n",
        "  plot3d(df)\n",
        "\n",
        "def plot3d(coords, title=''):\n",
        "  scatter = go.Scatter3d(\n",
        "              x=coords['x'],\n",
        "              y=coords['y'],\n",
        "              z=coords['z'],\n",
        "              text=coords.index,\n",
        "              textposition='top center',\n",
        "              showlegend=False,\n",
        "              mode='markers+text',\n",
        "              hoverinfo='text',\n",
        "              textfont=dict(color=coords['color']),#, size=19.2),\n",
        "              marker=dict(\n",
        "                  size=6,\n",
        "                  symbol='circle',\n",
        "                  color = coords['color']\n",
        "              )\n",
        "          )\n",
        "\n",
        "    \n",
        "  layout = go.Layout(\n",
        "      title=title,\n",
        "      width=1080,\n",
        "      height=960,\n",
        "      scene=dict(xaxis={'showbackground':False,\n",
        "                        'gridcolor':'rgba(0,0,40,0.4)'},\n",
        "                 yaxis={'showbackground':False,\n",
        "                        'gridcolor':'rgba(0,0,40,0.4)'},\n",
        "                 zaxis={'showbackground':False,\n",
        "                        'gridcolor':'rgba(0,0,40,0.4)'}),\n",
        "      )\n",
        "\n",
        "  fig = go.Figure(data=[scatter], layout = layout)\n",
        "  iplot(fig, validate=False)"
      ],
      "execution_count": 0,
      "outputs": []
    },
    {
      "cell_type": "code",
      "metadata": {
        "id": "Y_pMDDWYGEkY",
        "colab_type": "code",
        "colab": {}
      },
      "source": [
        "def plotear_vecinos(palabra, n = 200):\n",
        "  cercanas = encontrar_cercanas(palabra)\n",
        "  df = redux.loc[cercanas.index[:n]]\n",
        "  plot3d(df, w = palabra)"
      ],
      "execution_count": 0,
      "outputs": []
    },
    {
      "cell_type": "code",
      "metadata": {
        "id": "ZOoXWjaZhNUx",
        "colab_type": "code",
        "colab": {}
      },
      "source": [
        "def glove_vector(sentence):\n",
        "  return nlp(sentence).vector"
      ],
      "execution_count": 0,
      "outputs": []
    },
    {
      "cell_type": "code",
      "metadata": {
        "id": "1K0ar-cDtoqo",
        "colab_type": "code",
        "colab": {}
      },
      "source": [
        "def embed(string, how='glove'):\n",
        "  if how.lower() == 'bert':\n",
        "    return str2bert(string[:2000])\n",
        "  elif how.lower() == 'glove':\n",
        "    return nlp(string).vector "
      ],
      "execution_count": 0,
      "outputs": []
    },
    {
      "cell_type": "code",
      "metadata": {
        "id": "l1eucx1jnFzR",
        "colab_type": "code",
        "colab": {}
      },
      "source": [
        "def pairwise(e1, e2, r1, r2, w = 'e1 e2 r1 r2', distfunc=similitud_coseno):\n",
        "  we1, we2, wr1, wr2 = w.split()\n",
        "  print(f'|{we1} - {wr1}|'.ljust(25)+ f'{distfunc(e1, r1):.3f}')\n",
        "  print(f'|{we2} - {wr1}|'.ljust(25)+ f'{distfunc(e2, r1):.3f}')\n",
        "  print(f'|{we1} - {wr2}|'.ljust(25)+ f'{distfunc(e1, r2):.3f}')\n",
        "  print(f'|{we2} - {wr2}|'.ljust(25)+ f'{distfunc(e2, r2):.3f}')"
      ],
      "execution_count": 0,
      "outputs": []
    },
    {
      "cell_type": "code",
      "metadata": {
        "id": "MkDyLwIPMZwd",
        "colab_type": "code",
        "colab": {}
      },
      "source": [
        ""
      ],
      "execution_count": 0,
      "outputs": []
    },
    {
      "cell_type": "markdown",
      "metadata": {
        "id": "g86PmO2oboB3",
        "colab_type": "text"
      },
      "source": [
        "### Referencias y ejemplos"
      ]
    },
    {
      "cell_type": "code",
      "metadata": {
        "id": "OdXRMjPrMg51",
        "colab_type": "code",
        "colab": {}
      },
      "source": [
        "#old\n",
        "\n",
        "str_vision = ' '.join(('fotografía','imagen','color','forma','contorno','linea','ojos'))\n",
        "str_empatia = ' '.join(('empatía', 'compasión', 'solidaridad', 'solidario', 'amor'))\n",
        "str_dolor = ' '.join(('herida', 'pena', 'disgusto', 'tristeza', 'quemadura', 'pinchar', 'dolor'))\n",
        "str_intelecto = ' '.join(('cerebro', 'inteligencia', 'genio', 'logica'))\n",
        "str_sonido = ' '.join(('sonido','grave','agudo', 'tono', 'escuchar', 'oir', 'cantar','guitarra','agudo', 'tono', 'escuchar', 'concierto'))\n",
        "\n",
        "ej_musico = \"el video muestra una escena en una playa, se escucha la gente riendo y jugando. El mar está tranquilo, apenas se escucha el sonido de las olas, y el cielo despejado. Hay una pareja con un chico, que se alejó para jugar con una pelotita. Hay un grupo de adolescentes lejos hacia la derecha donde uno toca la guitarra.\"\n",
        "ej_fotografo = \"Se ve un día soleado de verano en una playa, con vistas al horizonte. Hay una pareja acostada sobre una manta verde y violeta de figuras geométricas, y varias sombrillas celestes a la izquierda. A lo lejos se ve el mar, con agua bastante clara. El hombre de la pareja tiene un bigote y aparenta unos 45 años, la mujer está de espaldas.\"\n",
        "\n",
        "wiki_musico = 'Un músico o una música1 es una persona que se dedica a la composición, interpretación y/o edición de la música. Los músicos se pueden clasificar en dos grandes categorías: compositor y trovador.'"
      ],
      "execution_count": 0,
      "outputs": []
    },
    {
      "cell_type": "code",
      "metadata": {
        "id": "jht7niCMhw2T",
        "colab_type": "code",
        "colab": {}
      },
      "source": [
        "str_vision = 'color forma mirar visión'\n",
        "str_empatia = 'empatía amor amar'\n",
        "str_sonido = 'sonido música'\n",
        "\n",
        "ej_musico = \"El video muestra una escena en una playa, se escucha la gente riendo y jugando. El mar está tranquilo, apenas se escucha el sonido de las olas, y el cielo despejado. Hay un grupo de adolescentes lejos hacia la derecha donde uno toca la guitarra.\"\n",
        "ej_fotografo = \"Se ve un día soleado de verano en una playa, con vistas al horizonte. Hay una pareja acostada sobre una manta verde y violeta de figuras geométricas, y varias sombrillas celestes a la izquierda. A lo lejos se ve el mar, con agua bastante clara. El hombre de la pareja tiene un bigote y aparenta unos 45 años, la mujer está de espaldas.\"\n",
        "\n",
        "hamilton = 'El hamiltoniano cuántico H es el observable que representa la energía total del sistema (formalmente se define como un operador autoadjunto definido sobre un dominio denso en el espacio de Hilbert del sistema). Los posibles valores de la energía de un sistema físico vienen dados por los valores propios del operador hamiltoniano'\n",
        "wiki_musico = 'Un músico o una música1 es una persona que se dedica a la composición, interpretación y/o edición de la música. Los músicos se pueden clasificar en dos grandes categorías: compositor y trovador.'\n",
        "str_spinetta = 'Si a tu corazón yo llego igual, todo siempre se podrá elegir. No me escribas la pared, solo quiero estar entre tu piel. Y si acaso no brillara el sl, y quedara yo atrapado aquí No vería la razón en seguir viviendo sin tu amor Y hoy que, enloquecido vuelvo buscando tu querer. No queda mas que viento, no queda mas que viento. Y si acaso no brillara el sol, y quedara yo atrapado aquí No vería la razón de seguir viviendo sin tu amor, ah Oh! Y hoy que, enloquecido, vuelvo! Buscando tu querer No queda mas que viento, no, no queda mas que viento Y si acaso no brillara el sol y quedara yo atrapado aquí No vería la razón de seguir viviendo sin tu amor'\n",
        "str_musica = 'Arte de combinar los sonidos en una secuencia temporal atendiendo a las leyes de la armonía, la melodía y el ritmo, o de producirlos con instrumentos'"
      ],
      "execution_count": 0,
      "outputs": []
    },
    {
      "cell_type": "code",
      "metadata": {
        "id": "JG-uSv_mnVYU",
        "colab_type": "code",
        "outputId": "37c09f6a-9a97-4869-da60-508a92cd46b6",
        "colab": {
          "base_uri": "https://localhost:8080/",
          "height": 383
        }
      },
      "source": [
        "# Ejemplos\n",
        "\n",
        "for m in ['GloVe', 'BERT']:\n",
        "  print(m)\n",
        "  sonido = embed(str_sonido, m)\n",
        "  vision = embed(str_vision, m)\n",
        "  musico = embed(ej_musico, m)\n",
        "  fotografo = embed(ej_fotografo, m)\n",
        "  pairwise(musico, fotografo, sonido, vision, w = 'Musico Fotografo Sonido Vision')\n",
        "  print()\n",
        "  wiki_mus = embed(wiki_musico, m)\n",
        "  musica = embed(str_musica, m)\n",
        "  spinetta = embed(str_spinetta, m)\n",
        "  math = embed(hamilton, m)\n",
        "  pairwise(wiki_mus, spinetta, musica, math, w = 'WikiMus Spinetta DefMus Math')\n",
        "  print()"
      ],
      "execution_count": 27,
      "outputs": [
        {
          "output_type": "stream",
          "text": [
            "GloVe\n",
            "|Musico - Sonido|        0.606\n",
            "|Fotografo - Sonido|     0.510\n",
            "|Musico - Vision|        0.764\n",
            "|Fotografo - Vision|     0.788\n",
            "\n",
            "|WikiMus - DefMus|       0.954\n",
            "|Spinetta - DefMus|      0.872\n",
            "|WikiMus - Math|         0.908\n",
            "|Spinetta - Math|        0.860\n",
            "\n",
            "BERT\n",
            "|Musico - Sonido|        0.836\n",
            "|Fotografo - Sonido|     0.829\n",
            "|Musico - Vision|        0.849\n",
            "|Fotografo - Vision|     0.832\n",
            "\n",
            "|WikiMus - DefMus|       0.823\n",
            "|Spinetta - DefMus|      0.769\n",
            "|WikiMus - Math|         0.821\n",
            "|Spinetta - Math|        0.803\n",
            "\n"
          ],
          "name": "stdout"
        }
      ]
    },
    {
      "cell_type": "code",
      "metadata": {
        "id": "XZCbGqCL7GrV",
        "colab_type": "code",
        "colab": {}
      },
      "source": [
        "example_sentences = [\n",
        "    # ML\n",
        "    \"circuitos neurobiológicos como algoritmo computacional para el aprendizaje estadístico\",\n",
        "    \"aprendizaje automático o machine learning (ML), que consiste en programas que aprenden a mejorar en una tarea, medida con una métrica particular\",\n",
        "    \"técnicas de estadística multivariada se construye una arquitectura probabilística para resolver la tarea\",\n",
        "\n",
        "    # Psi\n",
        "    \"Mediante el lenguaje, se pueden contemplar tantas caracterı́sticas del hablante como nivel de alerta, años de educación, profesión, o detectar trastornos de la salud como condiciones psiquiátricas\",\n",
        "    \"Las palabras que usamos en nuestras vida diaria pueden revelar aspectos importantes de nuestros mundos sociales y psicológicos.\",\n",
        "\n",
        "    \"Hoy pasó algo buenísimo, me siento muy contento\",\n",
        "    \"Qué tragedia lo que ocurrió\",\n",
        "\n",
        "\n",
        "    \"Cantar y bailar escuchando el sonar de las trompetas\"\n",
        "    \"El sonido del viento, el rugir de las olas\"\n",
        "]\n",
        "\n",
        "topics = [0, 0, 0, 1, 1, 2,2, 3,3]"
      ],
      "execution_count": 0,
      "outputs": []
    },
    {
      "cell_type": "code",
      "metadata": {
        "id": "W5Q6gWveFS61",
        "colab_type": "code",
        "colab": {
          "base_uri": "https://localhost:8080/",
          "height": 66
        },
        "outputId": "90daa53f-8146-48d3-adaa-2987e384d768"
      },
      "source": [
        "m = 'glove'\n",
        "vectors = [embed(s, m) for s in example_sentences]\n",
        "most_similar(embed(\"computadora\", m), vectors)"
      ],
      "execution_count": 124,
      "outputs": [
        {
          "output_type": "execute_result",
          "data": {
            "text/plain": [
              "['circuitos neurobiológicos como algoritmo computacional para el aprendizaje estadístico',\n",
              " 'aprendizaje automático o machine learning (ML), que consiste en programas que aprenden a mejorar en una tarea, medida con una métrica particular',\n",
              " 'técnicas de estadística multivariada se construye una arquitectura probabilística para resolver la tarea']"
            ]
          },
          "metadata": {
            "tags": []
          },
          "execution_count": 124
        }
      ]
    },
    {
      "cell_type": "code",
      "metadata": {
        "id": "eVDlDxfyvH_i",
        "colab_type": "code",
        "outputId": "c4f2d0f0-336d-47e5-b23e-33621989cd15",
        "colab": {
          "base_uri": "https://localhost:8080/",
          "height": 976
        }
      },
      "source": [
        "# Ploteamos\n",
        "plot3D_sentences(example_sentences, vectors, topics)"
      ],
      "execution_count": 125,
      "outputs": [
        {
          "output_type": "display_data",
          "data": {
            "text/html": [
              "<html>\n",
              "<head><meta charset=\"utf-8\" /></head>\n",
              "<body>\n",
              "    <div>\n",
              "            <script src=\"https://cdnjs.cloudflare.com/ajax/libs/mathjax/2.7.5/MathJax.js?config=TeX-AMS-MML_SVG\"></script><script type=\"text/javascript\">if (window.MathJax) {MathJax.Hub.Config({SVG: {font: \"STIX-Web\"}});}</script>\n",
              "                <script type=\"text/javascript\">window.PlotlyConfig = {MathJaxConfig: 'local'};</script>\n",
              "        <script src=\"https://cdn.plot.ly/plotly-latest.min.js\"></script>    \n",
              "            <div id=\"c050f7eb-c65e-4269-bdc1-621686625c4d\" class=\"plotly-graph-div\" style=\"height:960px; width:1080px;\"></div>\n",
              "            <script type=\"text/javascript\">\n",
              "                \n",
              "                    window.PLOTLYENV=window.PLOTLYENV || {};\n",
              "                    \n",
              "                if (document.getElementById(\"c050f7eb-c65e-4269-bdc1-621686625c4d\")) {\n",
              "                    Plotly.newPlot(\n",
              "                        'c050f7eb-c65e-4269-bdc1-621686625c4d',\n",
              "                        [{\"hoverinfo\": \"text\", \"marker\": {\"color\": [\"#37535e\", \"#37535e\", \"#37535e\", \"#3c758b\", \"#3c758b\", \"#4095b6\", \"#4095b6\", \"#53afc9\"], \"size\": 6, \"symbol\": \"circle\"}, \"mode\": \"markers+text\", \"showlegend\": false, \"text\": [\"circuitos neurobiol\\u00f3gicos como algoritmo computacional para el aprendizaje estad\\u00edstico\", \"aprendizaje autom\\u00e1tico o machine learning (ML), que consiste en programas que aprenden a mejorar en una tarea, medida con una m\\u00e9trica particular\", \"t\\u00e9cnicas de estad\\u00edstica multivariada se construye una arquitectura probabil\\u00edstica para resolver la tarea\", \"Mediante el lenguaje, se pueden contemplar tantas caracter\\u0131\\u0301sticas del hablante como nivel de alerta, a\\u00f1os de educaci\\u00f3n, profesi\\u00f3n, o detectar trastornos de la salud como condiciones psiqui\\u00e1tricas\", \"Las palabras que usamos en nuestras vida diaria pueden revelar aspectos importantes de nuestros mundos sociales y psicol\\u00f3gicos.\", \"Hoy pas\\u00f3 algo buen\\u00edsimo, me siento muy contento\", \"Qu\\u00e9 tragedia lo que ocurri\\u00f3\", \"Cantar y bailar escuchando el sonar de las trompetasEl sonido del viento, el rugir de las olas\"], \"textfont\": {\"color\": [\"#37535e\", \"#37535e\", \"#37535e\", \"#3c758b\", \"#3c758b\", \"#4095b6\", \"#4095b6\", \"#53afc9\"]}, \"textposition\": \"top center\", \"type\": \"scatter3d\", \"x\": [-1.372268633879362, -0.46603046064653003, -0.9818628783296788, -0.42623743196319497, -0.20882000984968302, 2.3476684531385987, 1.1423284601493475, -0.034777498619497464], \"y\": [-1.3764758405232738, 0.1299977361335219, 0.28005781217763137, 0.10673587826885968, 0.3241816850929683, -1.3773468659320225, 1.5800914089033276, 0.3327581858789866], \"z\": [-1.0283318662000938, 0.01236371684577353, 0.045793529362371584, 0.4210098510922124, 0.36422675248195147, 0.11581452112577251, -1.1676135723887286, 1.2367370676807397]}],\n",
              "                        {\"height\": 960, \"scene\": {\"xaxis\": {\"gridcolor\": \"rgba(0,0,40,0.4)\", \"showbackground\": false}, \"yaxis\": {\"gridcolor\": \"rgba(0,0,40,0.4)\", \"showbackground\": false}, \"zaxis\": {\"gridcolor\": \"rgba(0,0,40,0.4)\", \"showbackground\": false}}, \"template\": {\"data\": {\"bar\": [{\"error_x\": {\"color\": \"#2a3f5f\"}, \"error_y\": {\"color\": \"#2a3f5f\"}, \"marker\": {\"line\": {\"color\": \"#E5ECF6\", \"width\": 0.5}}, \"type\": \"bar\"}], \"barpolar\": [{\"marker\": {\"line\": {\"color\": \"#E5ECF6\", \"width\": 0.5}}, \"type\": \"barpolar\"}], \"carpet\": [{\"aaxis\": {\"endlinecolor\": \"#2a3f5f\", \"gridcolor\": \"white\", \"linecolor\": \"white\", \"minorgridcolor\": \"white\", \"startlinecolor\": \"#2a3f5f\"}, \"baxis\": {\"endlinecolor\": \"#2a3f5f\", \"gridcolor\": \"white\", \"linecolor\": \"white\", \"minorgridcolor\": \"white\", \"startlinecolor\": \"#2a3f5f\"}, \"type\": \"carpet\"}], \"choropleth\": [{\"colorbar\": {\"outlinewidth\": 0, \"ticks\": \"\"}, \"type\": \"choropleth\"}], \"contour\": [{\"colorbar\": {\"outlinewidth\": 0, \"ticks\": \"\"}, \"colorscale\": [[0.0, \"#0d0887\"], [0.1111111111111111, \"#46039f\"], [0.2222222222222222, \"#7201a8\"], [0.3333333333333333, \"#9c179e\"], [0.4444444444444444, \"#bd3786\"], [0.5555555555555556, \"#d8576b\"], [0.6666666666666666, \"#ed7953\"], [0.7777777777777778, \"#fb9f3a\"], [0.8888888888888888, \"#fdca26\"], [1.0, \"#f0f921\"]], \"type\": \"contour\"}], \"contourcarpet\": [{\"colorbar\": {\"outlinewidth\": 0, \"ticks\": \"\"}, \"type\": \"contourcarpet\"}], \"heatmap\": [{\"colorbar\": {\"outlinewidth\": 0, \"ticks\": \"\"}, \"colorscale\": [[0.0, \"#0d0887\"], [0.1111111111111111, \"#46039f\"], [0.2222222222222222, \"#7201a8\"], [0.3333333333333333, \"#9c179e\"], [0.4444444444444444, \"#bd3786\"], [0.5555555555555556, \"#d8576b\"], [0.6666666666666666, \"#ed7953\"], [0.7777777777777778, \"#fb9f3a\"], [0.8888888888888888, \"#fdca26\"], [1.0, \"#f0f921\"]], \"type\": \"heatmap\"}], \"heatmapgl\": [{\"colorbar\": {\"outlinewidth\": 0, \"ticks\": \"\"}, \"colorscale\": [[0.0, \"#0d0887\"], [0.1111111111111111, \"#46039f\"], [0.2222222222222222, \"#7201a8\"], [0.3333333333333333, \"#9c179e\"], [0.4444444444444444, \"#bd3786\"], [0.5555555555555556, \"#d8576b\"], [0.6666666666666666, \"#ed7953\"], [0.7777777777777778, \"#fb9f3a\"], [0.8888888888888888, \"#fdca26\"], [1.0, \"#f0f921\"]], \"type\": \"heatmapgl\"}], \"histogram\": [{\"marker\": {\"colorbar\": {\"outlinewidth\": 0, \"ticks\": \"\"}}, \"type\": \"histogram\"}], \"histogram2d\": [{\"colorbar\": {\"outlinewidth\": 0, \"ticks\": \"\"}, \"colorscale\": [[0.0, \"#0d0887\"], [0.1111111111111111, \"#46039f\"], [0.2222222222222222, \"#7201a8\"], [0.3333333333333333, \"#9c179e\"], [0.4444444444444444, \"#bd3786\"], [0.5555555555555556, \"#d8576b\"], [0.6666666666666666, \"#ed7953\"], [0.7777777777777778, \"#fb9f3a\"], [0.8888888888888888, \"#fdca26\"], [1.0, \"#f0f921\"]], \"type\": \"histogram2d\"}], \"histogram2dcontour\": [{\"colorbar\": {\"outlinewidth\": 0, \"ticks\": \"\"}, \"colorscale\": [[0.0, \"#0d0887\"], [0.1111111111111111, \"#46039f\"], [0.2222222222222222, \"#7201a8\"], [0.3333333333333333, \"#9c179e\"], [0.4444444444444444, \"#bd3786\"], [0.5555555555555556, \"#d8576b\"], [0.6666666666666666, \"#ed7953\"], [0.7777777777777778, \"#fb9f3a\"], [0.8888888888888888, \"#fdca26\"], [1.0, \"#f0f921\"]], \"type\": \"histogram2dcontour\"}], \"mesh3d\": [{\"colorbar\": {\"outlinewidth\": 0, \"ticks\": \"\"}, \"type\": \"mesh3d\"}], \"parcoords\": [{\"line\": {\"colorbar\": {\"outlinewidth\": 0, \"ticks\": \"\"}}, \"type\": \"parcoords\"}], \"pie\": [{\"automargin\": true, \"type\": \"pie\"}], \"scatter\": [{\"marker\": {\"colorbar\": {\"outlinewidth\": 0, \"ticks\": \"\"}}, \"type\": \"scatter\"}], \"scatter3d\": [{\"line\": {\"colorbar\": {\"outlinewidth\": 0, \"ticks\": \"\"}}, \"marker\": {\"colorbar\": {\"outlinewidth\": 0, \"ticks\": \"\"}}, \"type\": \"scatter3d\"}], \"scattercarpet\": [{\"marker\": {\"colorbar\": {\"outlinewidth\": 0, \"ticks\": \"\"}}, \"type\": \"scattercarpet\"}], \"scattergeo\": [{\"marker\": {\"colorbar\": {\"outlinewidth\": 0, \"ticks\": \"\"}}, \"type\": \"scattergeo\"}], \"scattergl\": [{\"marker\": {\"colorbar\": {\"outlinewidth\": 0, \"ticks\": \"\"}}, \"type\": \"scattergl\"}], \"scattermapbox\": [{\"marker\": {\"colorbar\": {\"outlinewidth\": 0, \"ticks\": \"\"}}, \"type\": \"scattermapbox\"}], \"scatterpolar\": [{\"marker\": {\"colorbar\": {\"outlinewidth\": 0, \"ticks\": \"\"}}, \"type\": \"scatterpolar\"}], \"scatterpolargl\": [{\"marker\": {\"colorbar\": {\"outlinewidth\": 0, \"ticks\": \"\"}}, \"type\": \"scatterpolargl\"}], \"scatterternary\": [{\"marker\": {\"colorbar\": {\"outlinewidth\": 0, \"ticks\": \"\"}}, \"type\": \"scatterternary\"}], \"surface\": [{\"colorbar\": {\"outlinewidth\": 0, \"ticks\": \"\"}, \"colorscale\": [[0.0, \"#0d0887\"], [0.1111111111111111, \"#46039f\"], [0.2222222222222222, \"#7201a8\"], [0.3333333333333333, \"#9c179e\"], [0.4444444444444444, \"#bd3786\"], [0.5555555555555556, \"#d8576b\"], [0.6666666666666666, \"#ed7953\"], [0.7777777777777778, \"#fb9f3a\"], [0.8888888888888888, \"#fdca26\"], [1.0, \"#f0f921\"]], \"type\": \"surface\"}], \"table\": [{\"cells\": {\"fill\": {\"color\": \"#EBF0F8\"}, \"line\": {\"color\": \"white\"}}, \"header\": {\"fill\": {\"color\": \"#C8D4E3\"}, \"line\": {\"color\": \"white\"}}, \"type\": \"table\"}]}, \"layout\": {\"annotationdefaults\": {\"arrowcolor\": \"#2a3f5f\", \"arrowhead\": 0, \"arrowwidth\": 1}, \"coloraxis\": {\"colorbar\": {\"outlinewidth\": 0, \"ticks\": \"\"}}, \"colorscale\": {\"diverging\": [[0, \"#8e0152\"], [0.1, \"#c51b7d\"], [0.2, \"#de77ae\"], [0.3, \"#f1b6da\"], [0.4, \"#fde0ef\"], [0.5, \"#f7f7f7\"], [0.6, \"#e6f5d0\"], [0.7, \"#b8e186\"], [0.8, \"#7fbc41\"], [0.9, \"#4d9221\"], [1, \"#276419\"]], \"sequential\": [[0.0, \"#0d0887\"], [0.1111111111111111, \"#46039f\"], [0.2222222222222222, \"#7201a8\"], [0.3333333333333333, \"#9c179e\"], [0.4444444444444444, \"#bd3786\"], [0.5555555555555556, \"#d8576b\"], [0.6666666666666666, \"#ed7953\"], [0.7777777777777778, \"#fb9f3a\"], [0.8888888888888888, \"#fdca26\"], [1.0, \"#f0f921\"]], \"sequentialminus\": [[0.0, \"#0d0887\"], [0.1111111111111111, \"#46039f\"], [0.2222222222222222, \"#7201a8\"], [0.3333333333333333, \"#9c179e\"], [0.4444444444444444, \"#bd3786\"], [0.5555555555555556, \"#d8576b\"], [0.6666666666666666, \"#ed7953\"], [0.7777777777777778, \"#fb9f3a\"], [0.8888888888888888, \"#fdca26\"], [1.0, \"#f0f921\"]]}, \"colorway\": [\"#636efa\", \"#EF553B\", \"#00cc96\", \"#ab63fa\", \"#FFA15A\", \"#19d3f3\", \"#FF6692\", \"#B6E880\", \"#FF97FF\", \"#FECB52\"], \"font\": {\"color\": \"#2a3f5f\"}, \"geo\": {\"bgcolor\": \"white\", \"lakecolor\": \"white\", \"landcolor\": \"#E5ECF6\", \"showlakes\": true, \"showland\": true, \"subunitcolor\": \"white\"}, \"hoverlabel\": {\"align\": \"left\"}, \"hovermode\": \"closest\", \"mapbox\": {\"style\": \"light\"}, \"paper_bgcolor\": \"white\", \"plot_bgcolor\": \"#E5ECF6\", \"polar\": {\"angularaxis\": {\"gridcolor\": \"white\", \"linecolor\": \"white\", \"ticks\": \"\"}, \"bgcolor\": \"#E5ECF6\", \"radialaxis\": {\"gridcolor\": \"white\", \"linecolor\": \"white\", \"ticks\": \"\"}}, \"scene\": {\"xaxis\": {\"backgroundcolor\": \"#E5ECF6\", \"gridcolor\": \"white\", \"gridwidth\": 2, \"linecolor\": \"white\", \"showbackground\": true, \"ticks\": \"\", \"zerolinecolor\": \"white\"}, \"yaxis\": {\"backgroundcolor\": \"#E5ECF6\", \"gridcolor\": \"white\", \"gridwidth\": 2, \"linecolor\": \"white\", \"showbackground\": true, \"ticks\": \"\", \"zerolinecolor\": \"white\"}, \"zaxis\": {\"backgroundcolor\": \"#E5ECF6\", \"gridcolor\": \"white\", \"gridwidth\": 2, \"linecolor\": \"white\", \"showbackground\": true, \"ticks\": \"\", \"zerolinecolor\": \"white\"}}, \"shapedefaults\": {\"line\": {\"color\": \"#2a3f5f\"}}, \"ternary\": {\"aaxis\": {\"gridcolor\": \"white\", \"linecolor\": \"white\", \"ticks\": \"\"}, \"baxis\": {\"gridcolor\": \"white\", \"linecolor\": \"white\", \"ticks\": \"\"}, \"bgcolor\": \"#E5ECF6\", \"caxis\": {\"gridcolor\": \"white\", \"linecolor\": \"white\", \"ticks\": \"\"}}, \"title\": {\"x\": 0.05}, \"xaxis\": {\"automargin\": true, \"gridcolor\": \"white\", \"linecolor\": \"white\", \"ticks\": \"\", \"title\": {\"standoff\": 15}, \"zerolinecolor\": \"white\", \"zerolinewidth\": 2}, \"yaxis\": {\"automargin\": true, \"gridcolor\": \"white\", \"linecolor\": \"white\", \"ticks\": \"\", \"title\": {\"standoff\": 15}, \"zerolinecolor\": \"white\", \"zerolinewidth\": 2}}}, \"title\": {\"text\": \"\"}, \"width\": 1080},\n",
              "                        {\"responsive\": true}\n",
              "                    ).then(function(){\n",
              "                            \n",
              "var gd = document.getElementById('c050f7eb-c65e-4269-bdc1-621686625c4d');\n",
              "var x = new MutationObserver(function (mutations, observer) {{\n",
              "        var display = window.getComputedStyle(gd).display;\n",
              "        if (!display || display === 'none') {{\n",
              "            console.log([gd, 'removed!']);\n",
              "            Plotly.purge(gd);\n",
              "            observer.disconnect();\n",
              "        }}\n",
              "}});\n",
              "\n",
              "// Listen for the removal of the full notebook cells\n",
              "var notebookContainer = gd.closest('#notebook-container');\n",
              "if (notebookContainer) {{\n",
              "    x.observe(notebookContainer, {childList: true});\n",
              "}}\n",
              "\n",
              "// Listen for the clearing of the current output cell\n",
              "var outputEl = gd.closest('.output');\n",
              "if (outputEl) {{\n",
              "    x.observe(outputEl, {childList: true});\n",
              "}}\n",
              "\n",
              "                        })\n",
              "                };\n",
              "                \n",
              "            </script>\n",
              "        </div>\n",
              "</body>\n",
              "</html>"
            ]
          },
          "metadata": {
            "tags": []
          }
        }
      ]
    },
    {
      "cell_type": "markdown",
      "metadata": {
        "id": "8dd2LSxVpcvF",
        "colab_type": "text"
      },
      "source": [
        "# Análisis"
      ]
    },
    {
      "cell_type": "code",
      "metadata": {
        "id": "bfgdCsSYC26K",
        "colab_type": "code",
        "colab": {
          "base_uri": "https://localhost:8080/",
          "height": 666
        },
        "outputId": "f0c6e85d-acb9-42ad-97fc-0865c4c08afa"
      },
      "source": [
        "!wget https://github.com/institutohumai/sesgos/raw/master/data/data.7z\n",
        "!7z x data.7z -pneurocomp"
      ],
      "execution_count": 31,
      "outputs": [
        {
          "output_type": "stream",
          "text": [
            "--2020-06-09 21:27:16--  https://github.com/institutohumai/sesgos/raw/master/data/data.7z\n",
            "Resolving github.com (github.com)... 140.82.113.4\n",
            "Connecting to github.com (github.com)|140.82.113.4|:443... connected.\n",
            "HTTP request sent, awaiting response... 302 Found\n",
            "Location: https://raw.githubusercontent.com/institutohumai/sesgos/master/data/data.7z [following]\n",
            "--2020-06-09 21:27:17--  https://raw.githubusercontent.com/institutohumai/sesgos/master/data/data.7z\n",
            "Resolving raw.githubusercontent.com (raw.githubusercontent.com)... 151.101.0.133, 151.101.64.133, 151.101.128.133, ...\n",
            "Connecting to raw.githubusercontent.com (raw.githubusercontent.com)|151.101.0.133|:443... connected.\n",
            "HTTP request sent, awaiting response... 200 OK\n",
            "Length: 102971 (101K) [application/octet-stream]\n",
            "Saving to: ‘data.7z’\n",
            "\n",
            "\rdata.7z               0%[                    ]       0  --.-KB/s               \rdata.7z             100%[===================>] 100.56K  --.-KB/s    in 0.04s   \n",
            "\n",
            "2020-06-09 21:27:17 (2.67 MB/s) - ‘data.7z’ saved [102971/102971]\n",
            "\n",
            "\n",
            "7-Zip [64] 16.02 : Copyright (c) 1999-2016 Igor Pavlov : 2016-05-21\n",
            "p7zip Version 16.02 (locale=en_US.UTF-8,Utf16=on,HugeFiles=on,64 bits,2 CPUs Intel(R) Xeon(R) CPU @ 2.30GHz (306F0),ASM,AES-NI)\n",
            "\n",
            "Scanning the drive for archives:\n",
            "  0M Scan\b\b\b\b\b\b\b\b\b         \b\b\b\b\b\b\b\b\b1 file, 102971 bytes (101 KiB)\n",
            "\n",
            "Extracting archive: data.7z\n",
            "--\n",
            "Path = data.7z\n",
            "Type = 7z\n",
            "Physical Size = 102971\n",
            "Headers Size = 1643\n",
            "Method = LZMA2:1536k 7zAES\n",
            "Solid = +\n",
            "Blocks = 1\n",
            "\n",
            "  0%\b\b\b\b    \b\b\b\bEverything is Ok\n",
            "\n",
            "Folders: 1\n",
            "Files: 84\n",
            "Size:       1224845\n",
            "Compressed: 102971\n"
          ],
          "name": "stdout"
        }
      ]
    },
    {
      "cell_type": "code",
      "metadata": {
        "id": "PaHjrNPDojH7",
        "colab_type": "code",
        "colab": {}
      },
      "source": [
        "import os\n",
        "import pandas as pd\n",
        "import json\n",
        "import re\n",
        "import numpy as np\n",
        "import warnings\n",
        "warnings.filterwarnings('ignore')"
      ],
      "execution_count": 0,
      "outputs": []
    },
    {
      "cell_type": "code",
      "metadata": {
        "id": "pCTK_nQIojH_",
        "colab_type": "code",
        "colab": {}
      },
      "source": [
        "def leer_archivo(f):\n",
        "    \"\"\"recibe path al archivo y devuelve DataFrame\"\"\"\n",
        "    with open(f, 'rb') as inp:\n",
        "        j = json.loads(inp.read().decode('latin1'))\n",
        "    return pd.read_json(j)"
      ],
      "execution_count": 0,
      "outputs": []
    },
    {
      "cell_type": "code",
      "metadata": {
        "id": "Kt6FlrRTojID",
        "colab_type": "code",
        "colab": {}
      },
      "source": [
        "def get_respuestas(df):\n",
        "    data = {}\n",
        "    for r in range(df.shape[0]):\n",
        "        d = df['responses'][r]\n",
        "        if pd.isna(d):\n",
        "            continue\n",
        "        for k, v in d.items():\n",
        "            n_pregunta = re.search('\\d+', k).group(0)\n",
        "            data[df['etapa'][r] + n_pregunta] = v\n",
        "    return data"
      ],
      "execution_count": 0,
      "outputs": []
    },
    {
      "cell_type": "code",
      "metadata": {
        "id": "YijbttKLojIF",
        "colab_type": "code",
        "colab": {}
      },
      "source": [
        "# funcion para pasar de los datos crudos a tuplas con (n_imagen, x, y)\n",
        "\n",
        "def colors2tuples(x):\n",
        "    return sorted([(int(re.search('(\\d+).png', d['src']).group(1)), d['x'], d['y']) for d in eval(x.dropna().values[0])], key=lambda x: x[1])"
      ],
      "execution_count": 0,
      "outputs": []
    },
    {
      "cell_type": "code",
      "metadata": {
        "id": "tjyhjuReojII",
        "colab_type": "code",
        "colab": {}
      },
      "source": [
        "# necesitamos algo como \n",
        "# rt, data, \n",
        "# ahora tenemos:\n",
        "# button pressed, locations, responses, rt\n",
        "\n",
        "def get_data(path):\n",
        "    etapas = ['bienvenida', 'consentimiento', 'pre_hist', 'historia', 'instruct_vid', 'video1', 'descripcion', 'video2',\n",
        "         'descripcion1', 'colores', 'audio1', 'audio2',  'audio3', 'mate', 'empatia', 'academia',\n",
        "         'personales', 'genero', 'yacasi', 'años', 'horas', 'subjetivo', 'recuerdo', 'despedida']\n",
        "    corr = ['alegr', 'preocup', 'deseos', 'insist', 'preocup', 'soña', 'inc', 'desanim', 'entusm', 'caute']\n",
        "    exactos = ['ing', 'sist', 'comput', 'fisica', 'matem']\n",
        "    \n",
        "    df = leer_archivo(path)\n",
        "    df['responses'] = df['responses'].apply(lambda x: eval(x) if type(x) == str else x)\n",
        "    df['etapa'] = etapas[:df.shape[0]]\n",
        "    data = get_respuestas(df[['responses', 'etapa']])\n",
        "    data['audioperceptiva'] = (df[df['etapa'].str.contains('audio')]['button_pressed'] == [0,1,0]).sum()\n",
        "    data['genero'] = df.loc[df['etapa'] == 'genero', 'response'].values[0]\n",
        "    data['colores'] = colors2tuples(df['final_locations'])\n",
        "    data['exacto'] = np.any([t in data['academia1'].lower() for t in exactos])\n",
        "    data['celular'] = (df['init_locations'].dropna() == df['final_locations'].dropna()).values[0]\n",
        "    data['tiempos'] = df['rt'].values.tolist()\n",
        "    data['mate0'] = (data['mate0'] == '0,05')\n",
        "    data['eyes'] = sum([corr[i] in data['empatia' + str(i)].lower() for i in range(1, 10)])\n",
        "    data['personales1'] = [match.groups(1)[0] if match else None for match in [re.search('(\\d+)', data['personales1'])]][0]\n",
        "    data = {k:v for k,v in data.items() if 'empat' not in k}\n",
        "    return data, df"
      ],
      "execution_count": 0,
      "outputs": []
    },
    {
      "cell_type": "code",
      "metadata": {
        "id": "K92iTOoZojIO",
        "colab_type": "code",
        "colab": {}
      },
      "source": [
        "# lista con todos los nombres de archivos\n",
        "txts = [r'/content/data/' + f for f in os.listdir('/content/data') if f.endswith('.json')]"
      ],
      "execution_count": 0,
      "outputs": []
    },
    {
      "cell_type": "code",
      "metadata": {
        "id": "E2dffg7FojIR",
        "colab_type": "code",
        "outputId": "b3c2505e-96df-45c0-e8a4-52690861858a",
        "colab": {
          "base_uri": "https://localhost:8080/",
          "height": 33
        }
      },
      "source": [
        "# junta todo en un DF\n",
        "data = []\n",
        "for txt in txts:\n",
        "    data_, df_ = get_data(txt)\n",
        "    data.append(data_)\n",
        "df = pd.DataFrame(data)\n",
        "df.shape"
      ],
      "execution_count": 38,
      "outputs": [
        {
          "output_type": "execute_result",
          "data": {
            "text/plain": [
              "(84, 61)"
            ]
          },
          "metadata": {
            "tags": []
          },
          "execution_count": 38
        }
      ]
    },
    {
      "cell_type": "code",
      "metadata": {
        "id": "z4Ms64c79UTB",
        "colab_type": "code",
        "outputId": "dd1b51fd-0727-4f02-c52b-090550c6bb6b",
        "colab": {
          "base_uri": "https://localhost:8080/",
          "height": 464
        }
      },
      "source": [
        "df.sample()"
      ],
      "execution_count": 39,
      "outputs": [
        {
          "output_type": "execute_result",
          "data": {
            "text/html": [
              "<div>\n",
              "<style scoped>\n",
              "    .dataframe tbody tr th:only-of-type {\n",
              "        vertical-align: middle;\n",
              "    }\n",
              "\n",
              "    .dataframe tbody tr th {\n",
              "        vertical-align: top;\n",
              "    }\n",
              "\n",
              "    .dataframe thead th {\n",
              "        text-align: right;\n",
              "    }\n",
              "</style>\n",
              "<table border=\"1\" class=\"dataframe\">\n",
              "  <thead>\n",
              "    <tr style=\"text-align: right;\">\n",
              "      <th></th>\n",
              "      <th>descripcion0</th>\n",
              "      <th>descripcion10</th>\n",
              "      <th>mate0</th>\n",
              "      <th>academia0</th>\n",
              "      <th>academia1</th>\n",
              "      <th>academia2</th>\n",
              "      <th>academia3</th>\n",
              "      <th>personales0</th>\n",
              "      <th>personales1</th>\n",
              "      <th>personales2</th>\n",
              "      <th>personales3</th>\n",
              "      <th>personales4</th>\n",
              "      <th>personales5</th>\n",
              "      <th>años0</th>\n",
              "      <th>años1</th>\n",
              "      <th>años2</th>\n",
              "      <th>años3</th>\n",
              "      <th>años4</th>\n",
              "      <th>años5</th>\n",
              "      <th>años6</th>\n",
              "      <th>años7</th>\n",
              "      <th>horas0</th>\n",
              "      <th>horas1</th>\n",
              "      <th>horas2</th>\n",
              "      <th>horas3</th>\n",
              "      <th>horas4</th>\n",
              "      <th>horas5</th>\n",
              "      <th>horas6</th>\n",
              "      <th>horas7</th>\n",
              "      <th>horas8</th>\n",
              "      <th>horas9</th>\n",
              "      <th>horas10</th>\n",
              "      <th>horas11</th>\n",
              "      <th>horas12</th>\n",
              "      <th>subjetivo0</th>\n",
              "      <th>subjetivo1</th>\n",
              "      <th>subjetivo2</th>\n",
              "      <th>subjetivo3</th>\n",
              "      <th>subjetivo4</th>\n",
              "      <th>subjetivo5</th>\n",
              "      <th>subjetivo6</th>\n",
              "      <th>subjetivo7</th>\n",
              "      <th>subjetivo8</th>\n",
              "      <th>subjetivo9</th>\n",
              "      <th>subjetivo10</th>\n",
              "      <th>subjetivo11</th>\n",
              "      <th>subjetivo12</th>\n",
              "      <th>subjetivo13</th>\n",
              "      <th>subjetivo14</th>\n",
              "      <th>subjetivo15</th>\n",
              "      <th>subjetivo16</th>\n",
              "      <th>subjetivo17</th>\n",
              "      <th>subjetivo18</th>\n",
              "      <th>recuerdo0</th>\n",
              "      <th>audioperceptiva</th>\n",
              "      <th>genero</th>\n",
              "      <th>colores</th>\n",
              "      <th>exacto</th>\n",
              "      <th>celular</th>\n",
              "      <th>tiempos</th>\n",
              "      <th>eyes</th>\n",
              "    </tr>\n",
              "  </thead>\n",
              "  <tbody>\n",
              "    <tr>\n",
              "      <th>58</th>\n",
              "      <td>Al comienzo del video se puede ver a una niña y un niño orientales jugando en el suelo.\\nElla tiene puesto un vestido azul y juega con una muñeca.\\nEl está vestido de blanco y juega con autos.\\nLu...</td>\n",
              "      <td>Al comienzo del video aparece un hombre blanco de pelo corto, castaño, lacio y con flequillo con apariencia entre los 20 y 30 años de edad.\\nSe encuentra sentado en la entrada de una casa que tien...</td>\n",
              "      <td>True</td>\n",
              "      <td>Terciario completo</td>\n",
              "      <td>Comercio exterior</td>\n",
              "      <td>Un año</td>\n",
              "      <td>Estudio Kinesiología</td>\n",
              "      <td>Sabrina</td>\n",
              "      <td>29</td>\n",
              "      <td>7</td>\n",
              "      <td>Martínez</td>\n",
              "      <td>153 cm, 47 kg</td>\n",
              "      <td>No</td>\n",
              "      <td>1</td>\n",
              "      <td>10 años</td>\n",
              "      <td>8</td>\n",
              "      <td>2</td>\n",
              "      <td>3</td>\n",
              "      <td>2</td>\n",
              "      <td>0 años (nada)</td>\n",
              "      <td>0 años (nada)</td>\n",
              "      <td>0-30</td>\n",
              "      <td>2-3</td>\n",
              "      <td>0 minutos</td>\n",
              "      <td>0-30</td>\n",
              "      <td>1-2 horas</td>\n",
              "      <td>0-30</td>\n",
              "      <td>0 minutos</td>\n",
              "      <td>0 minutos</td>\n",
              "      <td>0-30</td>\n",
              "      <td>0 minutos</td>\n",
              "      <td>0-30</td>\n",
              "      <td>0-30</td>\n",
              "      <td>0-30</td>\n",
              "      <td>10</td>\n",
              "      <td>7</td>\n",
              "      <td>9</td>\n",
              "      <td>10</td>\n",
              "      <td>10</td>\n",
              "      <td>10</td>\n",
              "      <td>10</td>\n",
              "      <td>10</td>\n",
              "      <td>10</td>\n",
              "      <td>10</td>\n",
              "      <td>10</td>\n",
              "      <td>10</td>\n",
              "      <td>10</td>\n",
              "      <td>8</td>\n",
              "      <td>8</td>\n",
              "      <td>10</td>\n",
              "      <td>9</td>\n",
              "      <td>9</td>\n",
              "      <td>5</td>\n",
              "      <td>Un hombre en un restaurante llama al mozo para quejarse.\\nTiene una taza de café tibia y dulce.\\nMueve su silla y realiza un sonido molesto con la msima.\\nEl está ofuscado.\\nEn frente hay un edifi...</td>\n",
              "      <td>1</td>\n",
              "      <td>0.0</td>\n",
              "      <td>[(10, 0, 9), (9, 122, 8), (8, 243, 10), (7, 363, 10), (6, 478, 8), (5, 596, 10), (4, 707, 10), (3, 830, 10), (2, 945, 10), (1, 1055, 10)]</td>\n",
              "      <td>False</td>\n",
              "      <td>False</td>\n",
              "      <td>[1375.0, 2957.0, 1247.0, 2647.0, 1559.0, nan, 278189.0, nan, 349398.0, 73814.0, 21014.0, 22319.0, 11823.0, 117749.0, 162639.0, 71413.0, 64734.0, 6567.0, 1671.0, 192616.0, 181852.0, 233913.0, 16374...</td>\n",
              "      <td>7</td>\n",
              "    </tr>\n",
              "  </tbody>\n",
              "</table>\n",
              "</div>"
            ],
            "text/plain": [
              "                                                                                                                                                                                               descripcion0  \\\n",
              "58  Al comienzo del video se puede ver a una niña y un niño orientales jugando en el suelo.\\nElla tiene puesto un vestido azul y juega con una muñeca.\\nEl está vestido de blanco y juega con autos.\\nLu...   \n",
              "\n",
              "                                                                                                                                                                                              descripcion10  \\\n",
              "58  Al comienzo del video aparece un hombre blanco de pelo corto, castaño, lacio y con flequillo con apariencia entre los 20 y 30 años de edad.\\nSe encuentra sentado en la entrada de una casa que tien...   \n",
              "\n",
              "    mate0           academia0          academia1 academia2  \\\n",
              "58   True  Terciario completo  Comercio exterior    Un año   \n",
              "\n",
              "               academia3 personales0 personales1 personales2 personales3  \\\n",
              "58  Estudio Kinesiología     Sabrina          29           7    Martínez   \n",
              "\n",
              "      personales4 personales5 años0    años1 años2 años3 años4 años5  \\\n",
              "58  153 cm, 47 kg          No     1  10 años     8     2     3     2   \n",
              "\n",
              "            años6          años7 horas0 horas1     horas2 horas3     horas4  \\\n",
              "58  0 años (nada)  0 años (nada)   0-30    2-3  0 minutos   0-30  1-2 horas   \n",
              "\n",
              "   horas5     horas6     horas7 horas8     horas9 horas10 horas11 horas12  \\\n",
              "58   0-30  0 minutos  0 minutos   0-30  0 minutos    0-30    0-30    0-30   \n",
              "\n",
              "   subjetivo0 subjetivo1 subjetivo2 subjetivo3 subjetivo4 subjetivo5  \\\n",
              "58         10          7          9         10         10         10   \n",
              "\n",
              "   subjetivo6 subjetivo7 subjetivo8 subjetivo9 subjetivo10 subjetivo11  \\\n",
              "58         10         10         10         10          10          10   \n",
              "\n",
              "   subjetivo12 subjetivo13 subjetivo14 subjetivo15 subjetivo16 subjetivo17  \\\n",
              "58          10           8           8          10           9           9   \n",
              "\n",
              "   subjetivo18  \\\n",
              "58           5   \n",
              "\n",
              "                                                                                                                                                                                                  recuerdo0  \\\n",
              "58  Un hombre en un restaurante llama al mozo para quejarse.\\nTiene una taza de café tibia y dulce.\\nMueve su silla y realiza un sonido molesto con la msima.\\nEl está ofuscado.\\nEn frente hay un edifi...   \n",
              "\n",
              "    audioperceptiva  genero  \\\n",
              "58                1     0.0   \n",
              "\n",
              "                                                                                                                                      colores  \\\n",
              "58  [(10, 0, 9), (9, 122, 8), (8, 243, 10), (7, 363, 10), (6, 478, 8), (5, 596, 10), (4, 707, 10), (3, 830, 10), (2, 945, 10), (1, 1055, 10)]   \n",
              "\n",
              "    exacto  celular  \\\n",
              "58   False    False   \n",
              "\n",
              "                                                                                                                                                                                                    tiempos  \\\n",
              "58  [1375.0, 2957.0, 1247.0, 2647.0, 1559.0, nan, 278189.0, nan, 349398.0, 73814.0, 21014.0, 22319.0, 11823.0, 117749.0, 162639.0, 71413.0, 64734.0, 6567.0, 1671.0, 192616.0, 181852.0, 233913.0, 16374...   \n",
              "\n",
              "    eyes  \n",
              "58     7  "
            ]
          },
          "metadata": {
            "tags": []
          },
          "execution_count": 39
        }
      ]
    },
    {
      "cell_type": "code",
      "metadata": {
        "id": "ie0USs_yojIX",
        "colab_type": "code",
        "outputId": "067e6959-b52a-4de8-b25e-ae041faef6e2",
        "colab": {
          "base_uri": "https://localhost:8080/",
          "height": 33
        }
      },
      "source": [
        "# porcentaje que lo hizo con celular\n",
        "df['celular'].sum() / df.shape[0]"
      ],
      "execution_count": 40,
      "outputs": [
        {
          "output_type": "execute_result",
          "data": {
            "text/plain": [
              "0.2261904761904762"
            ]
          },
          "metadata": {
            "tags": []
          },
          "execution_count": 40
        }
      ]
    },
    {
      "cell_type": "code",
      "metadata": {
        "id": "4_ePij_80-ln",
        "colab_type": "code",
        "colab": {}
      },
      "source": [
        "def limpiar(txt):\n",
        "  # ' '.join([unidecode.unidecode(w.string.strip()) for w in nlp(fotografo) if w.lemma_.lower() not in stop_words])\n",
        "  return ' '.join([p.text for p in nlp(txt) if unidecode.unidecode(p.lemma_) in palabras]) # in palabras"
      ],
      "execution_count": 0,
      "outputs": []
    },
    {
      "cell_type": "code",
      "metadata": {
        "id": "-N27uOS1MzTK",
        "colab_type": "code",
        "colab": {}
      },
      "source": [
        "str_sonido = 'música sonido grave agudo tono escuchar oir cantar guitarra piano'"
      ],
      "execution_count": 0,
      "outputs": []
    },
    {
      "cell_type": "code",
      "metadata": {
        "id": "b2fOSFow4n14",
        "colab_type": "code",
        "colab": {}
      },
      "source": [
        "# juntamos todo el texto ## podriamos hacerlo distinto!! separando las descripciones\n",
        "df['texto'] = (df['descripcion0'] + ' ' + df['descripcion10'])#.apply(limpiar)  # + ' ' + df['recuerdo0'] ?\n",
        "\n",
        "# calculamos la distancia a la ref para todos los sujetos\n",
        "df['dist_glove'] = df['texto'].apply(lambda x: similitud_coseno(embed(str_sonido), embed(x)))"
      ],
      "execution_count": 0,
      "outputs": []
    },
    {
      "cell_type": "code",
      "metadata": {
        "id": "hBFWpRt4O-1L",
        "colab_type": "code",
        "outputId": "266be83e-e966-4664-b4cd-7e6a49e6012d",
        "colab": {
          "base_uri": "https://localhost:8080/",
          "height": 50
        }
      },
      "source": [
        "%%time\n",
        "df['dist_bert'] = df['texto'].apply(lambda x: similitud_coseno(embed(str_sonido, 'bert'), embed(x, 'bert')))"
      ],
      "execution_count": 44,
      "outputs": [
        {
          "output_type": "stream",
          "text": [
            "CPU times: user 1min 52s, sys: 1.74 s, total: 1min 53s\n",
            "Wall time: 1min 54s\n"
          ],
          "name": "stdout"
        }
      ]
    },
    {
      "cell_type": "code",
      "metadata": {
        "id": "n1T8QzyAUcXm",
        "colab_type": "code",
        "outputId": "db39c8f6-1a09-470e-e80b-e1b72cbff836",
        "colab": {
          "base_uri": "https://localhost:8080/",
          "height": 100
        }
      },
      "source": [
        "df['audioperceptiva'].value_counts()"
      ],
      "execution_count": 45,
      "outputs": [
        {
          "output_type": "execute_result",
          "data": {
            "text/plain": [
              "2    28\n",
              "1    26\n",
              "3    15\n",
              "0    15\n",
              "Name: audioperceptiva, dtype: int64"
            ]
          },
          "metadata": {
            "tags": []
          },
          "execution_count": 45
        }
      ]
    },
    {
      "cell_type": "code",
      "metadata": {
        "id": "D3kVWMyq5MxV",
        "colab_type": "code",
        "outputId": "9e334b2c-115c-44fd-b506-46402562ea74",
        "colab": {
          "base_uri": "https://localhost:8080/",
          "height": 284
        }
      },
      "source": [
        "sns.countplot('audioperceptiva', data=df);"
      ],
      "execution_count": 73,
      "outputs": [
        {
          "output_type": "display_data",
          "data": {
            "image/png": "[encoded data removed]",
            "text/plain": [
              "<Figure size 432x288 with 1 Axes>"
            ]
          },
          "metadata": {
            "tags": []
          }
        }
      ]
    },
    {
      "cell_type": "code",
      "metadata": {
        "id": "j3bDQxgBojIb",
        "colab_type": "code",
        "colab": {}
      },
      "source": [
        "# definimos un indicador del grupo\n",
        "df['es_exacto'] = (df['exacto'] == True) & (df['mate0'] == True)\n",
        "df['es_musico'] = df['audioperceptiva'] > 1\n",
        "df['es_hombre'] = df['genero'] > 99"
      ],
      "execution_count": 0,
      "outputs": []
    },
    {
      "cell_type": "code",
      "metadata": {
        "id": "n8ZZ-WgzCX13",
        "colab_type": "code",
        "outputId": "aed0b4f3-7f68-4e4c-949b-8b92da14332d",
        "colab": {
          "base_uri": "https://localhost:8080/",
          "height": 33
        }
      },
      "source": [
        "df.shape, df['es_exacto'].sum(), df['es_musico'].sum(), df['es_hombre'].sum()"
      ],
      "execution_count": 48,
      "outputs": [
        {
          "output_type": "execute_result",
          "data": {
            "text/plain": [
              "((84, 67), 16, 43, 40)"
            ]
          },
          "metadata": {
            "tags": []
          },
          "execution_count": 48
        }
      ]
    },
    {
      "cell_type": "code",
      "metadata": {
        "id": "l4Glvnvn1xu9",
        "colab_type": "code",
        "outputId": "0f4e454d-4812-4722-b539-b3a0cc74185b",
        "colab": {
          "base_uri": "https://localhost:8080/",
          "height": 166
        }
      },
      "source": [
        "df['texto'].apply(lambda x: len(x)).describe()"
      ],
      "execution_count": 49,
      "outputs": [
        {
          "output_type": "execute_result",
          "data": {
            "text/plain": [
              "count      84.000000\n",
              "mean     1311.178571\n",
              "std       395.850926\n",
              "min       756.000000\n",
              "25%      1144.500000\n",
              "50%      1199.500000\n",
              "75%      1332.000000\n",
              "max      4013.000000\n",
              "Name: texto, dtype: float64"
            ]
          },
          "metadata": {
            "tags": []
          },
          "execution_count": 49
        }
      ]
    },
    {
      "cell_type": "code",
      "metadata": {
        "id": "UCqYRfbn1_Qg",
        "colab_type": "code",
        "outputId": "97965fd9-bd8c-482a-8cec-0bf582022b9e",
        "colab": {
          "base_uri": "https://localhost:8080/",
          "height": 281
        }
      },
      "source": [
        "sns.kdeplot(df['texto'].apply(lambda x: len(x)))"
      ],
      "execution_count": 50,
      "outputs": [
        {
          "output_type": "execute_result",
          "data": {
            "text/plain": [
              "<matplotlib.axes._subplots.AxesSubplot at 0x7f17e4f6d860>"
            ]
          },
          "metadata": {
            "tags": []
          },
          "execution_count": 50
        },
        {
          "output_type": "display_data",
          "data": {
            "image/png": "[encoded data removed]",
            "text/plain": [
              "<Figure size 432x288 with 1 Axes>"
            ]
          },
          "metadata": {
            "tags": [],
            "needs_background": "light"
          }
        }
      ]
    },
    {
      "cell_type": "code",
      "metadata": {
        "id": "CjJGVDBq18T2",
        "colab_type": "code",
        "colab": {}
      },
      "source": [
        "sns.set()"
      ],
      "execution_count": 0,
      "outputs": []
    },
    {
      "cell_type": "markdown",
      "metadata": {
        "id": "x9HJOe-GaZo4",
        "colab_type": "text"
      },
      "source": [
        "## Preprocesamiento"
      ]
    },
    {
      "cell_type": "markdown",
      "metadata": {
        "id": "lZu_O1C8h3Pc",
        "colab_type": "text"
      },
      "source": [
        "## Estadística Descriptiva"
      ]
    },
    {
      "cell_type": "code",
      "metadata": {
        "id": "3lKfaSLAxmfC",
        "colab_type": "code",
        "outputId": "2ee96bb3-7c0e-4d4b-f21d-7bc7d2712211",
        "colab": {
          "base_uri": "https://localhost:8080/",
          "height": 284
        }
      },
      "source": [
        "sns.distplot(df.loc[:,'genero'], bins=70, kde=False);"
      ],
      "execution_count": 54,
      "outputs": [
        {
          "output_type": "display_data",
          "data": {
            "image/png": "[encoded data removed]",
            "text/plain": [
              "<Figure size 432x288 with 1 Axes>"
            ]
          },
          "metadata": {
            "tags": []
          }
        }
      ]
    },
    {
      "cell_type": "code",
      "metadata": {
        "id": "ccG1SxcD1TVg",
        "colab_type": "code",
        "outputId": "b61cebe6-e600-485d-e92d-0567f73c12d7",
        "colab": {
          "base_uri": "https://localhost:8080/",
          "height": 183
        }
      },
      "source": [
        "df.loc[:,'genero'].value_counts()"
      ],
      "execution_count": 55,
      "outputs": [
        {
          "output_type": "execute_result",
          "data": {
            "text/plain": [
              "100.0    40\n",
              "0.0      35\n",
              "50.0      2\n",
              "88.0      2\n",
              "86.0      1\n",
              "76.0      1\n",
              "24.0      1\n",
              "90.0      1\n",
              "89.0      1\n",
              "Name: genero, dtype: int64"
            ]
          },
          "metadata": {
            "tags": []
          },
          "execution_count": 55
        }
      ]
    },
    {
      "cell_type": "code",
      "metadata": {
        "id": "JTmAi_I11Yb5",
        "colab_type": "code",
        "outputId": "b9c79686-b2e3-49c0-ba56-606f1f468296",
        "colab": {
          "base_uri": "https://localhost:8080/",
          "height": 33
        }
      },
      "source": [
        "df.shape[0]"
      ],
      "execution_count": 56,
      "outputs": [
        {
          "output_type": "execute_result",
          "data": {
            "text/plain": [
              "84"
            ]
          },
          "metadata": {
            "tags": []
          },
          "execution_count": 56
        }
      ]
    },
    {
      "cell_type": "code",
      "metadata": {
        "id": "eiQBtdSW9KSQ",
        "colab_type": "code",
        "outputId": "41999996-05e7-49bf-ecfb-befe6432bcf3",
        "colab": {
          "base_uri": "https://localhost:8080/",
          "height": 284
        }
      },
      "source": [
        "sns.distplot(df.loc[:,'personales1'].dropna().astype(int));"
      ],
      "execution_count": 57,
      "outputs": [
        {
          "output_type": "display_data",
          "data": {
            "image/png": "[encoded data removed]",
            "text/plain": [
              "<Figure size 432x288 with 1 Axes>"
            ]
          },
          "metadata": {
            "tags": []
          }
        }
      ]
    },
    {
      "cell_type": "code",
      "metadata": {
        "id": "kwvG8Aj9ojId",
        "colab_type": "code",
        "outputId": "33837ea2-2d00-4271-d672-504cdc78c663",
        "colab": {
          "base_uri": "https://localhost:8080/",
          "height": 301
        }
      },
      "source": [
        "# Matemáticas\n",
        "print('% correctos de exactas:', df[df['es_exacto'] == True]['mate0'].mean() * 100)\n",
        "print('% correctos de no-exactas:', df[df['es_exacto'] == False]['mate0'].mean() * 100)\n",
        "sns.barplot(x=['Exacto','No exactos'], y=[ df[df['es_exacto'] == True]['mate0'].sum() / df[df['es_exacto'] == True]['mate0'].count(),\n",
        "                                           df[df['es_exacto'] == False]['mate0'].sum() / df[df['es_exacto'] == False]['mate0'].count()]);\n"
      ],
      "execution_count": 52,
      "outputs": [
        {
          "output_type": "stream",
          "text": [
            "% correctos de exactas: 100.0\n",
            "% correctos de no-exactas: 29.411764705882355\n"
          ],
          "name": "stdout"
        },
        {
          "output_type": "display_data",
          "data": {
            "image/png": "[encoded data removed]",
            "text/plain": [
              "<Figure size 432x288 with 1 Axes>"
            ]
          },
          "metadata": {
            "tags": []
          }
        }
      ]
    },
    {
      "cell_type": "code",
      "metadata": {
        "id": "rvynk_whojIj",
        "colab_type": "code",
        "outputId": "f1823629-fffe-4735-a25c-887217c3e062",
        "colab": {
          "base_uri": "https://localhost:8080/",
          "height": 301
        }
      },
      "source": [
        "sns.kdeplot(df.loc[df['es_exacto'] == 1, 'eyes'])\n",
        "sns.kdeplot(df.loc[df['es_exacto'] == 0, 'eyes']);\n",
        "print('Puntaje promedio para exactas:', df[df['es_exacto'] == True]['eyes'].mean())\n",
        "print('Puntaje promedio para resto:', df[df['es_exacto'] == False]['eyes'].mean())"
      ],
      "execution_count": 53,
      "outputs": [
        {
          "output_type": "stream",
          "text": [
            "Puntaje promedio para exactas: 4.25\n",
            "Puntaje promedio para resto: 5.6911764705882355\n"
          ],
          "name": "stdout"
        },
        {
          "output_type": "display_data",
          "data": {
            "image/png": "[encoded data removed]",
            "text/plain": [
              "<Figure size 432x288 with 1 Axes>"
            ]
          },
          "metadata": {
            "tags": []
          }
        }
      ]
    },
    {
      "cell_type": "code",
      "metadata": {
        "id": "KT9n8M_DU1hc",
        "colab_type": "code",
        "outputId": "4309f88e-d79b-428c-f13f-31de64913512",
        "colab": {
          "base_uri": "https://localhost:8080/",
          "height": 33
        }
      },
      "source": [
        "st.normaltest(df['dist_glove'])"
      ],
      "execution_count": 126,
      "outputs": [
        {
          "output_type": "execute_result",
          "data": {
            "text/plain": [
              "NormaltestResult(statistic=1.1772479565789387, pvalue=0.5550905761453808)"
            ]
          },
          "metadata": {
            "tags": []
          },
          "execution_count": 126
        }
      ]
    },
    {
      "cell_type": "markdown",
      "metadata": {
        "id": "9bUx3EUhR0vL",
        "colab_type": "text"
      },
      "source": [
        "##  Musica"
      ]
    },
    {
      "cell_type": "code",
      "metadata": {
        "id": "hXzdBF-85UPL",
        "colab_type": "code",
        "outputId": "7303c76b-63e3-4efa-eb55-f3024c488b40",
        "colab": {
          "base_uri": "https://localhost:8080/",
          "height": 351
        }
      },
      "source": [
        "print(st.pearsonr(df['es_musico'], df['dist_bert']))\n",
        "print(st.spearmanr(df['es_musico'], df['dist_bert']))\n",
        "print(st.ttest_ind(df.loc[df['es_musico'] == 0, 'dist_bert'], df.loc[df['es_musico'] == 1, 'dist_bert']))\n",
        "print(st.mannwhitneyu(df.loc[df['es_musico'] == 0, 'dist_bert'], df.loc[df['es_musico'] == 1, 'dist_bert']))\n",
        "\n",
        "sns.kdeplot(df.loc[df['es_musico'] == 1, 'dist_bert'])\n",
        "sns.kdeplot(df.loc[df['es_musico'] == 0, 'dist_bert'])\n",
        "plt.legend(['No musicos', 'Musicos'])\n",
        "plt.title('Distancia a vector de \"música\"')\n",
        "plt.show()"
      ],
      "execution_count": 138,
      "outputs": [
        {
          "output_type": "stream",
          "text": [
            "(0.13508707308594126, 0.22051233088908379)\n",
            "SpearmanrResult(correlation=0.12228841308197726, pvalue=0.2677913223583836)\n",
            "Ttest_indResult(statistic=-1.2345819844255486, pvalue=0.22051233088908498)\n",
            "MannwhitneyuResult(statistic=757.0, pvalue=0.13358007557844032)\n"
          ],
          "name": "stdout"
        },
        {
          "output_type": "display_data",
          "data": {
            "image/png": "[encoded data removed]",
            "text/plain": [
              "<Figure size 432x288 with 1 Axes>"
            ]
          },
          "metadata": {
            "tags": []
          }
        }
      ]
    },
    {
      "cell_type": "code",
      "metadata": {
        "id": "xgArvqK_TtYn",
        "colab_type": "code",
        "outputId": "f31c367d-38bf-4853-e55d-39f2eb4d9579",
        "colab": {
          "base_uri": "https://localhost:8080/",
          "height": 351
        }
      },
      "source": [
        "print(st.pearsonr(df['es_musico'], df['dist_glove']))\n",
        "print(st.spearmanr(df['es_musico'], df['dist_glove']))\n",
        "print(st.ttest_ind(df.loc[df['es_musico'] == 0, 'dist_glove'], df.loc[df['es_musico'] == 1, 'dist_glove']))\n",
        "print(st.mannwhitneyu(df.loc[df['es_musico'] == 0, 'dist_glove'], df.loc[df['es_musico'] == 1, 'dist_glove']))\n",
        "\n",
        "sns.kdeplot(df.loc[df['es_musico'] == 1, 'dist_glove'])\n",
        "sns.kdeplot(df.loc[df['es_musico'] == 0, 'dist_glove'])\n",
        "plt.legend(['No musicos', 'Musicos'])\n",
        "plt.title('Distancia a vector de \"música\"')\n",
        "plt.show()"
      ],
      "execution_count": 139,
      "outputs": [
        {
          "output_type": "stream",
          "text": [
            "(0.28039681278715634, 0.009782622801533435)\n",
            "SpearmanrResult(correlation=0.23917452679085513, pvalue=0.028442228434105526)\n",
            "Ttest_indResult(statistic=-2.6452161627731066, pvalue=0.009782622801533955)\n",
            "MannwhitneyuResult(statistic=638.0, pvalue=0.014833452325632974)\n"
          ],
          "name": "stdout"
        },
        {
          "output_type": "display_data",
          "data": {
            "image/png": "[encoded data removed]",
            "text/plain": [
              "<Figure size 432x288 with 1 Axes>"
            ]
          },
          "metadata": {
            "tags": []
          }
        }
      ]
    },
    {
      "cell_type": "code",
      "metadata": {
        "id": "IKqAsafPUPdI",
        "colab_type": "code",
        "outputId": "7dc9fe13-eba3-4257-a6bb-dea580e1e333",
        "colab": {
          "base_uri": "https://localhost:8080/",
          "height": 33
        }
      },
      "source": [
        "st.spearmanr(df['es_musico'], df['dist_glove'])"
      ],
      "execution_count": 61,
      "outputs": [
        {
          "output_type": "execute_result",
          "data": {
            "text/plain": [
              "SpearmanrResult(correlation=0.23917452679085513, pvalue=0.028442228434105526)"
            ]
          },
          "metadata": {
            "tags": []
          },
          "execution_count": 61
        }
      ]
    },
    {
      "cell_type": "code",
      "metadata": {
        "id": "FQIhKlMvTxdU",
        "colab_type": "code",
        "colab": {}
      },
      "source": [
        "def test(txt, ref, distfunc=similitud_coseno, um = 0.15):\n",
        "  txt = nlp(txt)\n",
        "  r = 0\n",
        "  for w in txt:\n",
        "    dist = distfunc(embed(w.text, 'glove'), embed(w.text, 'glove'))\n",
        "    if dist >= um:\n",
        "      r += 1\n",
        "  return r/len(txt)"
      ],
      "execution_count": 0,
      "outputs": []
    },
    {
      "cell_type": "code",
      "metadata": {
        "id": "MaS6f2CC0zAi",
        "colab_type": "code",
        "outputId": "466949c5-6639-4a01-ba97-2d2779cf4e55",
        "colab": {
          "base_uri": "https://localhost:8080/",
          "height": 50
        }
      },
      "source": [
        "%%time\n",
        "df['n_mus'] = df['texto'].apply(lambda x: test(x, str_sonido))"
      ],
      "execution_count": 133,
      "outputs": [
        {
          "output_type": "stream",
          "text": [
            "CPU times: user 1.37 s, sys: 75.7 ms, total: 1.45 s\n",
            "Wall time: 1.31 s\n"
          ],
          "name": "stdout"
        }
      ]
    },
    {
      "cell_type": "code",
      "metadata": {
        "id": "jUdRVHWl0y7O",
        "colab_type": "code",
        "outputId": "40458944-3515-4f59-8d9b-0792ce660b4d",
        "colab": {
          "base_uri": "https://localhost:8080/",
          "height": 578
        }
      },
      "source": [
        "sns.kdeplot(df.loc[df['es_musico'] == 1, 'n_mus'])\n",
        "sns.kdeplot(df.loc[df['es_musico'] == 0, 'n_mus'])\n",
        "plt.legend(['No Músico', 'Músico'])\n",
        "print(st.mannwhitneyu(df.loc[df['es_musico'] == 0, 'n_mus'], df.loc[df['es_musico'] == 1, 'n_mus']))\n",
        "print(st.ttest_ind(df.loc[df['es_musico'] == 0, 'n_mus'], df.loc[df['es_musico'] == 1, 'n_mus']))"
      ],
      "execution_count": 134,
      "outputs": [
        {
          "output_type": "error",
          "ename": "ValueError",
          "evalue": "ignored",
          "traceback": [
            "\u001b[0;31m---------------------------------------------------------------------------\u001b[0m",
            "\u001b[0;31mValueError\u001b[0m                                Traceback (most recent call last)",
            "\u001b[0;32m<ipython-input-134-9e699b661b19>\u001b[0m in \u001b[0;36m<module>\u001b[0;34m()\u001b[0m\n\u001b[1;32m      2\u001b[0m \u001b[0msns\u001b[0m\u001b[0;34m.\u001b[0m\u001b[0mkdeplot\u001b[0m\u001b[0;34m(\u001b[0m\u001b[0mdf\u001b[0m\u001b[0;34m.\u001b[0m\u001b[0mloc\u001b[0m\u001b[0;34m[\u001b[0m\u001b[0mdf\u001b[0m\u001b[0;34m[\u001b[0m\u001b[0;34m'es_musico'\u001b[0m\u001b[0;34m]\u001b[0m \u001b[0;34m==\u001b[0m \u001b[0;36m0\u001b[0m\u001b[0;34m,\u001b[0m \u001b[0;34m'n_mus'\u001b[0m\u001b[0;34m]\u001b[0m\u001b[0;34m)\u001b[0m\u001b[0;34m\u001b[0m\u001b[0;34m\u001b[0m\u001b[0m\n\u001b[1;32m      3\u001b[0m \u001b[0mplt\u001b[0m\u001b[0;34m.\u001b[0m\u001b[0mlegend\u001b[0m\u001b[0;34m(\u001b[0m\u001b[0;34m[\u001b[0m\u001b[0;34m'No Músico'\u001b[0m\u001b[0;34m,\u001b[0m \u001b[0;34m'Músico'\u001b[0m\u001b[0;34m]\u001b[0m\u001b[0;34m)\u001b[0m\u001b[0;34m\u001b[0m\u001b[0;34m\u001b[0m\u001b[0m\n\u001b[0;32m----> 4\u001b[0;31m \u001b[0mprint\u001b[0m\u001b[0;34m(\u001b[0m\u001b[0mst\u001b[0m\u001b[0;34m.\u001b[0m\u001b[0mmannwhitneyu\u001b[0m\u001b[0;34m(\u001b[0m\u001b[0mdf\u001b[0m\u001b[0;34m.\u001b[0m\u001b[0mloc\u001b[0m\u001b[0;34m[\u001b[0m\u001b[0mdf\u001b[0m\u001b[0;34m[\u001b[0m\u001b[0;34m'es_musico'\u001b[0m\u001b[0;34m]\u001b[0m \u001b[0;34m==\u001b[0m \u001b[0;36m0\u001b[0m\u001b[0;34m,\u001b[0m \u001b[0;34m'n_mus'\u001b[0m\u001b[0;34m]\u001b[0m\u001b[0;34m,\u001b[0m \u001b[0mdf\u001b[0m\u001b[0;34m.\u001b[0m\u001b[0mloc\u001b[0m\u001b[0;34m[\u001b[0m\u001b[0mdf\u001b[0m\u001b[0;34m[\u001b[0m\u001b[0;34m'es_musico'\u001b[0m\u001b[0;34m]\u001b[0m \u001b[0;34m==\u001b[0m \u001b[0;36m1\u001b[0m\u001b[0;34m,\u001b[0m \u001b[0;34m'n_mus'\u001b[0m\u001b[0;34m]\u001b[0m\u001b[0;34m)\u001b[0m\u001b[0;34m)\u001b[0m\u001b[0;34m\u001b[0m\u001b[0;34m\u001b[0m\u001b[0m\n\u001b[0m\u001b[1;32m      5\u001b[0m \u001b[0mprint\u001b[0m\u001b[0;34m(\u001b[0m\u001b[0mst\u001b[0m\u001b[0;34m.\u001b[0m\u001b[0mttest_ind\u001b[0m\u001b[0;34m(\u001b[0m\u001b[0mdf\u001b[0m\u001b[0;34m.\u001b[0m\u001b[0mloc\u001b[0m\u001b[0;34m[\u001b[0m\u001b[0mdf\u001b[0m\u001b[0;34m[\u001b[0m\u001b[0;34m'es_musico'\u001b[0m\u001b[0;34m]\u001b[0m \u001b[0;34m==\u001b[0m \u001b[0;36m0\u001b[0m\u001b[0;34m,\u001b[0m \u001b[0;34m'n_mus'\u001b[0m\u001b[0;34m]\u001b[0m\u001b[0;34m,\u001b[0m \u001b[0mdf\u001b[0m\u001b[0;34m.\u001b[0m\u001b[0mloc\u001b[0m\u001b[0;34m[\u001b[0m\u001b[0mdf\u001b[0m\u001b[0;34m[\u001b[0m\u001b[0;34m'es_musico'\u001b[0m\u001b[0;34m]\u001b[0m \u001b[0;34m==\u001b[0m \u001b[0;36m1\u001b[0m\u001b[0;34m,\u001b[0m \u001b[0;34m'n_mus'\u001b[0m\u001b[0;34m]\u001b[0m\u001b[0;34m)\u001b[0m\u001b[0;34m)\u001b[0m\u001b[0;34m\u001b[0m\u001b[0;34m\u001b[0m\u001b[0m\n",
            "\u001b[0;32m/usr/local/lib/python3.6/dist-packages/scipy/stats/stats.py\u001b[0m in \u001b[0;36mmannwhitneyu\u001b[0;34m(x, y, use_continuity, alternative)\u001b[0m\n\u001b[1;32m   6399\u001b[0m     \u001b[0mT\u001b[0m \u001b[0;34m=\u001b[0m \u001b[0mtiecorrect\u001b[0m\u001b[0;34m(\u001b[0m\u001b[0mranked\u001b[0m\u001b[0;34m)\u001b[0m\u001b[0;34m\u001b[0m\u001b[0;34m\u001b[0m\u001b[0m\n\u001b[1;32m   6400\u001b[0m     \u001b[0;32mif\u001b[0m \u001b[0mT\u001b[0m \u001b[0;34m==\u001b[0m \u001b[0;36m0\u001b[0m\u001b[0;34m:\u001b[0m\u001b[0;34m\u001b[0m\u001b[0;34m\u001b[0m\u001b[0m\n\u001b[0;32m-> 6401\u001b[0;31m         \u001b[0;32mraise\u001b[0m \u001b[0mValueError\u001b[0m\u001b[0;34m(\u001b[0m\u001b[0;34m'All numbers are identical in mannwhitneyu'\u001b[0m\u001b[0;34m)\u001b[0m\u001b[0;34m\u001b[0m\u001b[0;34m\u001b[0m\u001b[0m\n\u001b[0m\u001b[1;32m   6402\u001b[0m     \u001b[0msd\u001b[0m \u001b[0;34m=\u001b[0m \u001b[0mnp\u001b[0m\u001b[0;34m.\u001b[0m\u001b[0msqrt\u001b[0m\u001b[0;34m(\u001b[0m\u001b[0mT\u001b[0m \u001b[0;34m*\u001b[0m \u001b[0mn1\u001b[0m \u001b[0;34m*\u001b[0m \u001b[0mn2\u001b[0m \u001b[0;34m*\u001b[0m \u001b[0;34m(\u001b[0m\u001b[0mn1\u001b[0m\u001b[0;34m+\u001b[0m\u001b[0mn2\u001b[0m\u001b[0;34m+\u001b[0m\u001b[0;36m1\u001b[0m\u001b[0;34m)\u001b[0m \u001b[0;34m/\u001b[0m \u001b[0;36m12.0\u001b[0m\u001b[0;34m)\u001b[0m\u001b[0;34m\u001b[0m\u001b[0;34m\u001b[0m\u001b[0m\n\u001b[1;32m   6403\u001b[0m \u001b[0;34m\u001b[0m\u001b[0m\n",
            "\u001b[0;31mValueError\u001b[0m: All numbers are identical in mannwhitneyu"
          ]
        },
        {
          "output_type": "display_data",
          "data": {
            "image/png": "[encoded data removed]",
            "text/plain": [
              "<Figure size 432x288 with 1 Axes>"
            ]
          },
          "metadata": {
            "tags": []
          }
        }
      ]
    },
    {
      "cell_type": "code",
      "metadata": {
        "id": "qj6B13r93dHN",
        "colab_type": "code",
        "outputId": "09a6ff84-46c4-4575-f578-17291f5bb291",
        "colab": {
          "base_uri": "https://localhost:8080/",
          "height": 381
        }
      },
      "source": [
        "sns.lmplot(x='dist_glove', y='n_mus', data=df)"
      ],
      "execution_count": 135,
      "outputs": [
        {
          "output_type": "execute_result",
          "data": {
            "text/plain": [
              "<seaborn.axisgrid.FacetGrid at 0x7f17e51ed6a0>"
            ]
          },
          "metadata": {
            "tags": []
          },
          "execution_count": 135
        },
        {
          "output_type": "display_data",
          "data": {
            "image/png": "[encoded data removed]",
            "text/plain": [
              "<Figure size 360x360 with 1 Axes>"
            ]
          },
          "metadata": {
            "tags": []
          }
        }
      ]
    },
    {
      "cell_type": "code",
      "metadata": {
        "id": "0ziqst1X4SMT",
        "colab_type": "code",
        "outputId": "38c74369-b28b-4ef0-e13f-16b5ce5396b7",
        "colab": {
          "base_uri": "https://localhost:8080/",
          "height": 33
        }
      },
      "source": [
        "st.spearmanr(df['audioperceptiva'], df['dist_glove'])"
      ],
      "execution_count": 66,
      "outputs": [
        {
          "output_type": "execute_result",
          "data": {
            "text/plain": [
              "SpearmanrResult(correlation=0.0963071270837903, pvalue=0.38349664626068447)"
            ]
          },
          "metadata": {
            "tags": []
          },
          "execution_count": 66
        }
      ]
    },
    {
      "cell_type": "markdown",
      "metadata": {
        "id": "Q0ge5nJtRyts",
        "colab_type": "text"
      },
      "source": [
        "## Empatia"
      ]
    },
    {
      "cell_type": "code",
      "metadata": {
        "id": "o-sZfYekGc9x",
        "colab_type": "code",
        "outputId": "4ffd275f-21a9-4000-a048-cddf396bc4a0",
        "colab": {
          "base_uri": "https://localhost:8080/",
          "height": 33
        }
      },
      "source": [
        "st.pearsonr(df['es_exacto'], df['mate0'])"
      ],
      "execution_count": 76,
      "outputs": [
        {
          "output_type": "execute_result",
          "data": {
            "text/plain": [
              "(0.5601120336112041, 3.028153914851161e-08)"
            ]
          },
          "metadata": {
            "tags": []
          },
          "execution_count": 76
        }
      ]
    },
    {
      "cell_type": "code",
      "metadata": {
        "id": "K7JPb2CaojIo",
        "colab_type": "code",
        "colab": {
          "base_uri": "https://localhost:8080/",
          "height": 33
        },
        "outputId": "be8de833-c794-48ee-ce0f-7f2fafb06036"
      },
      "source": [
        "st.ttest_ind(df.loc[df['es_exacto'] == 0, 'eyes'], df.loc[df['es_exacto'] == 1, 'eyes'])"
      ],
      "execution_count": 77,
      "outputs": [
        {
          "output_type": "execute_result",
          "data": {
            "text/plain": [
              "Ttest_indResult(statistic=3.695667224655664, pvalue=0.0003947071021139341)"
            ]
          },
          "metadata": {
            "tags": []
          },
          "execution_count": 77
        }
      ]
    },
    {
      "cell_type": "code",
      "metadata": {
        "id": "OUrskXr6Nfv_",
        "colab_type": "code",
        "colab": {
          "base_uri": "https://localhost:8080/",
          "height": 284
        },
        "outputId": "583a63a0-ae50-44f8-dbf8-68674bf911bf"
      },
      "source": [
        "sns.kdeplot(df.loc[df['es_exacto'] == 1, 'dist_glove'])\n",
        "sns.kdeplot(df.loc[df['es_exacto'] == 0, 'dist_glove'])\n",
        "plt.legend(['Exactas', 'No Exactas'])\n",
        "st.ttest_ind(df.loc[df['es_exacto'] == 0, 'dist_glove'], df.loc[df['es_exacto'] == 1, 'dist_glove'], equal_var=False)"
      ],
      "execution_count": 78,
      "outputs": [
        {
          "output_type": "execute_result",
          "data": {
            "text/plain": [
              "Ttest_indResult(statistic=-1.175320430023876, pvalue=0.25426546142091877)"
            ]
          },
          "metadata": {
            "tags": []
          },
          "execution_count": 78
        },
        {
          "output_type": "display_data",
          "data": {
            "image/png": "[encoded data removed]",
            "text/plain": [
              "<Figure size 432x288 with 1 Axes>"
            ]
          },
          "metadata": {
            "tags": []
          }
        }
      ]
    },
    {
      "cell_type": "code",
      "metadata": {
        "id": "tmAFM4EgD-bX",
        "colab_type": "code",
        "colab": {}
      },
      "source": [
        "df['n_empat'] = df['texto'].apply(lambda x: test(x, 'empatía'))"
      ],
      "execution_count": 0,
      "outputs": []
    },
    {
      "cell_type": "code",
      "metadata": {
        "id": "FxlR_lsnIl2B",
        "colab_type": "code",
        "colab": {
          "base_uri": "https://localhost:8080/",
          "height": 562
        },
        "outputId": "830fbf62-1918-4dc8-827b-55dedd94abe8"
      },
      "source": [
        "sns.kdeplot(df.loc[df['es_exacto'] == 1, 'n_empat'])\n",
        "sns.kdeplot(df.loc[df['es_exacto'] == 0, 'n_empat'])\n",
        "plt.legend(['Exactas', 'No Exactas'])\n",
        "st.mannwhitneyu(df.loc[df['es_exacto'] == 0, 'n_empat'], df.loc[df['es_exacto'] == 1, 'n_empat'])"
      ],
      "execution_count": 137,
      "outputs": [
        {
          "output_type": "error",
          "ename": "ValueError",
          "evalue": "ignored",
          "traceback": [
            "\u001b[0;31m---------------------------------------------------------------------------\u001b[0m",
            "\u001b[0;31mValueError\u001b[0m                                Traceback (most recent call last)",
            "\u001b[0;32m<ipython-input-137-3cd59a411218>\u001b[0m in \u001b[0;36m<module>\u001b[0;34m()\u001b[0m\n\u001b[1;32m      2\u001b[0m \u001b[0msns\u001b[0m\u001b[0;34m.\u001b[0m\u001b[0mkdeplot\u001b[0m\u001b[0;34m(\u001b[0m\u001b[0mdf\u001b[0m\u001b[0;34m.\u001b[0m\u001b[0mloc\u001b[0m\u001b[0;34m[\u001b[0m\u001b[0mdf\u001b[0m\u001b[0;34m[\u001b[0m\u001b[0;34m'es_exacto'\u001b[0m\u001b[0;34m]\u001b[0m \u001b[0;34m==\u001b[0m \u001b[0;36m0\u001b[0m\u001b[0;34m,\u001b[0m \u001b[0;34m'n_empat'\u001b[0m\u001b[0;34m]\u001b[0m\u001b[0;34m)\u001b[0m\u001b[0;34m\u001b[0m\u001b[0;34m\u001b[0m\u001b[0m\n\u001b[1;32m      3\u001b[0m \u001b[0mplt\u001b[0m\u001b[0;34m.\u001b[0m\u001b[0mlegend\u001b[0m\u001b[0;34m(\u001b[0m\u001b[0;34m[\u001b[0m\u001b[0;34m'Exactas'\u001b[0m\u001b[0;34m,\u001b[0m \u001b[0;34m'No Exactas'\u001b[0m\u001b[0;34m]\u001b[0m\u001b[0;34m)\u001b[0m\u001b[0;34m\u001b[0m\u001b[0;34m\u001b[0m\u001b[0m\n\u001b[0;32m----> 4\u001b[0;31m \u001b[0mst\u001b[0m\u001b[0;34m.\u001b[0m\u001b[0mmannwhitneyu\u001b[0m\u001b[0;34m(\u001b[0m\u001b[0mdf\u001b[0m\u001b[0;34m.\u001b[0m\u001b[0mloc\u001b[0m\u001b[0;34m[\u001b[0m\u001b[0mdf\u001b[0m\u001b[0;34m[\u001b[0m\u001b[0;34m'es_exacto'\u001b[0m\u001b[0;34m]\u001b[0m \u001b[0;34m==\u001b[0m \u001b[0;36m0\u001b[0m\u001b[0;34m,\u001b[0m \u001b[0;34m'n_empat'\u001b[0m\u001b[0;34m]\u001b[0m\u001b[0;34m,\u001b[0m \u001b[0mdf\u001b[0m\u001b[0;34m.\u001b[0m\u001b[0mloc\u001b[0m\u001b[0;34m[\u001b[0m\u001b[0mdf\u001b[0m\u001b[0;34m[\u001b[0m\u001b[0;34m'es_exacto'\u001b[0m\u001b[0;34m]\u001b[0m \u001b[0;34m==\u001b[0m \u001b[0;36m1\u001b[0m\u001b[0;34m,\u001b[0m \u001b[0;34m'n_empat'\u001b[0m\u001b[0;34m]\u001b[0m\u001b[0;34m)\u001b[0m\u001b[0;34m\u001b[0m\u001b[0;34m\u001b[0m\u001b[0m\n\u001b[0m",
            "\u001b[0;32m/usr/local/lib/python3.6/dist-packages/scipy/stats/stats.py\u001b[0m in \u001b[0;36mmannwhitneyu\u001b[0;34m(x, y, use_continuity, alternative)\u001b[0m\n\u001b[1;32m   6399\u001b[0m     \u001b[0mT\u001b[0m \u001b[0;34m=\u001b[0m \u001b[0mtiecorrect\u001b[0m\u001b[0;34m(\u001b[0m\u001b[0mranked\u001b[0m\u001b[0;34m)\u001b[0m\u001b[0;34m\u001b[0m\u001b[0;34m\u001b[0m\u001b[0m\n\u001b[1;32m   6400\u001b[0m     \u001b[0;32mif\u001b[0m \u001b[0mT\u001b[0m \u001b[0;34m==\u001b[0m \u001b[0;36m0\u001b[0m\u001b[0;34m:\u001b[0m\u001b[0;34m\u001b[0m\u001b[0;34m\u001b[0m\u001b[0m\n\u001b[0;32m-> 6401\u001b[0;31m         \u001b[0;32mraise\u001b[0m \u001b[0mValueError\u001b[0m\u001b[0;34m(\u001b[0m\u001b[0;34m'All numbers are identical in mannwhitneyu'\u001b[0m\u001b[0;34m)\u001b[0m\u001b[0;34m\u001b[0m\u001b[0;34m\u001b[0m\u001b[0m\n\u001b[0m\u001b[1;32m   6402\u001b[0m     \u001b[0msd\u001b[0m \u001b[0;34m=\u001b[0m \u001b[0mnp\u001b[0m\u001b[0;34m.\u001b[0m\u001b[0msqrt\u001b[0m\u001b[0;34m(\u001b[0m\u001b[0mT\u001b[0m \u001b[0;34m*\u001b[0m \u001b[0mn1\u001b[0m \u001b[0;34m*\u001b[0m \u001b[0mn2\u001b[0m \u001b[0;34m*\u001b[0m \u001b[0;34m(\u001b[0m\u001b[0mn1\u001b[0m\u001b[0;34m+\u001b[0m\u001b[0mn2\u001b[0m\u001b[0;34m+\u001b[0m\u001b[0;36m1\u001b[0m\u001b[0;34m)\u001b[0m \u001b[0;34m/\u001b[0m \u001b[0;36m12.0\u001b[0m\u001b[0;34m)\u001b[0m\u001b[0;34m\u001b[0m\u001b[0;34m\u001b[0m\u001b[0m\n\u001b[1;32m   6403\u001b[0m \u001b[0;34m\u001b[0m\u001b[0m\n",
            "\u001b[0;31mValueError\u001b[0m: All numbers are identical in mannwhitneyu"
          ]
        },
        {
          "output_type": "display_data",
          "data": {
            "image/png": "[encoded data removed]",
            "text/plain": [
              "<Figure size 432x288 with 1 Axes>"
            ]
          },
          "metadata": {
            "tags": []
          }
        }
      ]
    },
    {
      "cell_type": "code",
      "metadata": {
        "id": "udT59YjXDduO",
        "colab_type": "code",
        "colab": {}
      },
      "source": [
        ""
      ],
      "execution_count": 0,
      "outputs": []
    },
    {
      "cell_type": "code",
      "metadata": {
        "id": "7Qga3JDMRx6R",
        "colab_type": "code",
        "colab": {}
      },
      "source": [
        "# normalizar x cant de palabras !!"
      ],
      "execution_count": 0,
      "outputs": []
    },
    {
      "cell_type": "code",
      "metadata": {
        "id": "BIeeycE-KLV4",
        "colab_type": "code",
        "colab": {}
      },
      "source": [
        "# Prueba analogías "
      ],
      "execution_count": 0,
      "outputs": []
    },
    {
      "cell_type": "code",
      "metadata": {
        "id": "woaXu_6nsUXM",
        "colab_type": "code",
        "colab": {}
      },
      "source": [
        "!wget https://cs.famaf.unc.edu.ar/~ccardellino/SBWCE/questions-words_sp.txt"
      ],
      "execution_count": 0,
      "outputs": []
    },
    {
      "cell_type": "code",
      "metadata": {
        "id": "VXxVpGvPTVcV",
        "colab_type": "code",
        "colab": {}
      },
      "source": [
        "#https://www.cs.cmu.edu/afs/cs/project/jair/pub/volume23/montoyo05a-html/node27.html"
      ],
      "execution_count": 0,
      "outputs": []
    },
    {
      "cell_type": "code",
      "metadata": {
        "id": "xGFwaxok1RLg",
        "colab_type": "code",
        "colab": {}
      },
      "source": [
        ""
      ],
      "execution_count": 0,
      "outputs": []
    },
    {
      "cell_type": "code",
      "metadata": {
        "id": "_wIp1BvqtUo0",
        "colab_type": "code",
        "colab": {}
      },
      "source": [
        "# si quisieramos usar como bases ejes conocidos\n",
        "#file = 'bases.csv'\n",
        "#i,j,w = 'feliz', 'dormido', 'futuro'\n",
        "#vecs.loc[[i,j,w]].to_csv(file)\n",
        "#i,j,w = vecs.loc[i], vecs.loc[j], vecs.loc[w]"
      ],
      "execution_count": 0,
      "outputs": []
    }
  ]
}